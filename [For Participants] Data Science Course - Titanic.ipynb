{
 "cells": [
  {
   "cell_type": "markdown",
   "metadata": {},
   "source": [
    "# Data Science Introduction Course\n",
    "\n",
    "**Dataset:** [Titanic Competition - Kaggle](https://www.kaggle.com/c/titanic/overview)\n",
    "\n",
    "**Idea:** Use machine learning to create a model that predicts which passengers survived the Titanic shipwreck.\n",
    "\n",
    "**Available data:**\n",
    "* `data/kaggle_data.csv`: Contains the details of a subset of the passengers on board and will reveal whether they survived or not. Which is our target label.\n",
    "* `data/kaggle_test.csv`: Contains similar information but does not disclose the target label for each passenger. It’s your job to predict these outcomes.\n",
    "\n",
    "We will split our dataset into a seperate training and test set, to evaluate our model locally, but we can also predict the `kaggle_test.csv`-file and submit [here](https://www.kaggle.com/c/titanic/submit) to see our actual accuracy.\n",
    "\n",
    "<br>\n",
    "\n",
    "by Henrik Høiness"
   ]
  },
  {
   "cell_type": "markdown",
   "metadata": {},
   "source": [
    "### Quick introduction to DataFrames (5 min)\n",
    "\n",
    "Think of it as a matrix or a spreadsheet in Excel, which we can store information on a row-column basis. "
   ]
  },
  {
   "cell_type": "code",
   "execution_count": 1,
   "metadata": {},
   "outputs": [
    {
     "data": {
      "text/html": [
       "<div>\n",
       "<style scoped>\n",
       "    .dataframe tbody tr th:only-of-type {\n",
       "        vertical-align: middle;\n",
       "    }\n",
       "\n",
       "    .dataframe tbody tr th {\n",
       "        vertical-align: top;\n",
       "    }\n",
       "\n",
       "    .dataframe thead th {\n",
       "        text-align: right;\n",
       "    }\n",
       "</style>\n",
       "<table border=\"1\" class=\"dataframe\">\n",
       "  <thead>\n",
       "    <tr style=\"text-align: right;\">\n",
       "      <th></th>\n",
       "      <th>Name</th>\n",
       "      <th>Age</th>\n",
       "      <th>Hometown</th>\n",
       "    </tr>\n",
       "  </thead>\n",
       "  <tbody>\n",
       "    <tr>\n",
       "      <th>0</th>\n",
       "      <td>Henrik</td>\n",
       "      <td>23</td>\n",
       "      <td>Oslo</td>\n",
       "    </tr>\n",
       "    <tr>\n",
       "      <th>1</th>\n",
       "      <td>William</td>\n",
       "      <td>24</td>\n",
       "      <td>Ulsteinvik</td>\n",
       "    </tr>\n",
       "  </tbody>\n",
       "</table>\n",
       "</div>"
      ],
      "text/plain": [
       "      Name  Age    Hometown\n",
       "0   Henrik   23        Oslo\n",
       "1  William   24  Ulsteinvik"
      ]
     },
     "execution_count": 1,
     "metadata": {},
     "output_type": "execute_result"
    }
   ],
   "source": [
    "import pandas as pd\n",
    "\n",
    "# Example on dataframes\n",
    "example_df = pd.DataFrame([[\"Henrik\", 23, \"Oslo\"], [\"William\", 24, \"Ulsteinvik\"]], columns=[\"Name\", \"Age\", \"Hometown\"])\n",
    "\n",
    "example_df"
   ]
  },
  {
   "cell_type": "code",
   "execution_count": 2,
   "metadata": {},
   "outputs": [
    {
     "data": {
      "text/plain": [
       "0     Henrik\n",
       "1    William\n",
       "Name: Name, dtype: object"
      ]
     },
     "execution_count": 2,
     "metadata": {},
     "output_type": "execute_result"
    }
   ],
   "source": [
    "# Get Name-column as a Series (list of column values with index)\n",
    "example_df[\"Name\"]"
   ]
  },
  {
   "cell_type": "code",
   "execution_count": 5,
   "metadata": {},
   "outputs": [
    {
     "data": {
      "text/html": [
       "<div>\n",
       "<style scoped>\n",
       "    .dataframe tbody tr th:only-of-type {\n",
       "        vertical-align: middle;\n",
       "    }\n",
       "\n",
       "    .dataframe tbody tr th {\n",
       "        vertical-align: top;\n",
       "    }\n",
       "\n",
       "    .dataframe thead th {\n",
       "        text-align: right;\n",
       "    }\n",
       "</style>\n",
       "<table border=\"1\" class=\"dataframe\">\n",
       "  <thead>\n",
       "    <tr style=\"text-align: right;\">\n",
       "      <th></th>\n",
       "      <th>Name</th>\n",
       "      <th>Age</th>\n",
       "    </tr>\n",
       "  </thead>\n",
       "  <tbody>\n",
       "    <tr>\n",
       "      <th>0</th>\n",
       "      <td>Henrik</td>\n",
       "      <td>23</td>\n",
       "    </tr>\n",
       "    <tr>\n",
       "      <th>1</th>\n",
       "      <td>William</td>\n",
       "      <td>24</td>\n",
       "    </tr>\n",
       "  </tbody>\n",
       "</table>\n",
       "</div>"
      ],
      "text/plain": [
       "      Name  Age\n",
       "0   Henrik   23\n",
       "1  William   24"
      ]
     },
     "execution_count": 5,
     "metadata": {},
     "output_type": "execute_result"
    }
   ],
   "source": [
    "# Get a dataframe containing Name and Age columns\n",
    "example_df[[\"Name\", \"Age\"]]"
   ]
  },
  {
   "cell_type": "code",
   "execution_count": 7,
   "metadata": {},
   "outputs": [
    {
     "data": {
      "text/plain": [
       "Name        Henrik\n",
       "Age             23\n",
       "Hometown      Oslo\n",
       "Name: 0, dtype: object"
      ]
     },
     "execution_count": 7,
     "metadata": {},
     "output_type": "execute_result"
    }
   ],
   "source": [
    "# Get first row of dataframe\n",
    "example_df.loc[0]"
   ]
  },
  {
   "cell_type": "code",
   "execution_count": 8,
   "metadata": {
    "scrolled": false
   },
   "outputs": [
    {
     "data": {
      "text/html": [
       "<div>\n",
       "<style scoped>\n",
       "    .dataframe tbody tr th:only-of-type {\n",
       "        vertical-align: middle;\n",
       "    }\n",
       "\n",
       "    .dataframe tbody tr th {\n",
       "        vertical-align: top;\n",
       "    }\n",
       "\n",
       "    .dataframe thead th {\n",
       "        text-align: right;\n",
       "    }\n",
       "</style>\n",
       "<table border=\"1\" class=\"dataframe\">\n",
       "  <thead>\n",
       "    <tr style=\"text-align: right;\">\n",
       "      <th></th>\n",
       "      <th>Name</th>\n",
       "      <th>Age</th>\n",
       "      <th>Hometown</th>\n",
       "    </tr>\n",
       "  </thead>\n",
       "  <tbody>\n",
       "    <tr>\n",
       "      <th>1</th>\n",
       "      <td>William</td>\n",
       "      <td>24</td>\n",
       "      <td>Ulsteinvik</td>\n",
       "    </tr>\n",
       "  </tbody>\n",
       "</table>\n",
       "</div>"
      ],
      "text/plain": [
       "      Name  Age    Hometown\n",
       "1  William   24  Ulsteinvik"
      ]
     },
     "execution_count": 8,
     "metadata": {},
     "output_type": "execute_result"
    }
   ],
   "source": [
    "# Get persons older than 23\n",
    "example_df[example_df[\"Age\"] > 23 ]\n",
    "\n",
    "# Comment: example_df[\"Age\"] > 23 will create a boolean list, which says which indices to include in result"
   ]
  },
  {
   "cell_type": "code",
   "execution_count": 9,
   "metadata": {},
   "outputs": [
    {
     "data": {
      "text/html": [
       "<div>\n",
       "<style scoped>\n",
       "    .dataframe tbody tr th:only-of-type {\n",
       "        vertical-align: middle;\n",
       "    }\n",
       "\n",
       "    .dataframe tbody tr th {\n",
       "        vertical-align: top;\n",
       "    }\n",
       "\n",
       "    .dataframe thead th {\n",
       "        text-align: right;\n",
       "    }\n",
       "</style>\n",
       "<table border=\"1\" class=\"dataframe\">\n",
       "  <thead>\n",
       "    <tr style=\"text-align: right;\">\n",
       "      <th></th>\n",
       "      <th>Name</th>\n",
       "      <th>Age</th>\n",
       "      <th>Hometown</th>\n",
       "      <th>Birthyear</th>\n",
       "    </tr>\n",
       "  </thead>\n",
       "  <tbody>\n",
       "    <tr>\n",
       "      <th>0</th>\n",
       "      <td>Henrik</td>\n",
       "      <td>23</td>\n",
       "      <td>Oslo</td>\n",
       "      <td>1998</td>\n",
       "    </tr>\n",
       "    <tr>\n",
       "      <th>1</th>\n",
       "      <td>William</td>\n",
       "      <td>24</td>\n",
       "      <td>Ulsteinvik</td>\n",
       "      <td>1997</td>\n",
       "    </tr>\n",
       "  </tbody>\n",
       "</table>\n",
       "</div>"
      ],
      "text/plain": [
       "      Name  Age    Hometown  Birthyear\n",
       "0   Henrik   23        Oslo       1998\n",
       "1  William   24  Ulsteinvik       1997"
      ]
     },
     "execution_count": 9,
     "metadata": {},
     "output_type": "execute_result"
    }
   ],
   "source": [
    "# Add column with year of birth\n",
    "from datetime import datetime\n",
    "\n",
    "year_today = datetime.now().year\n",
    "example_df[\"Birthyear\"] = year_today - example_df[\"Age\"]\n",
    "\n",
    "\n",
    "example_df"
   ]
  },
  {
   "cell_type": "markdown",
   "metadata": {},
   "source": [
    "## 1. Loading data (3 min)"
   ]
  },
  {
   "cell_type": "markdown",
   "metadata": {},
   "source": [
    "**Task:** Load `data/kaggle_data.csv` into dataframe using pandas and display first five rows (`.head()`). Also print length of our dataset."
   ]
  },
  {
   "cell_type": "code",
   "execution_count": 10,
   "metadata": {},
   "outputs": [
    {
     "ename": "TypeError",
     "evalue": "object of type 'ellipsis' has no len()",
     "output_type": "error",
     "traceback": [
      "\u001b[0;31m---------------------------------------------------------------------------\u001b[0m",
      "\u001b[0;31mTypeError\u001b[0m                                 Traceback (most recent call last)",
      "\u001b[0;32m/var/folders/qz/s8z3h6rj4kj3xj7tj2q01j3c0000gn/T/ipykernel_15733/511998989.py\u001b[0m in \u001b[0;36m<module>\u001b[0;34m\u001b[0m\n\u001b[1;32m      8\u001b[0m \u001b[0;34m\u001b[0m\u001b[0m\n\u001b[1;32m      9\u001b[0m \u001b[0;34m\u001b[0m\u001b[0m\n\u001b[0;32m---> 10\u001b[0;31m \u001b[0mprint\u001b[0m\u001b[0;34m(\u001b[0m\u001b[0;34mf\"Length of dataset {len(df)}\"\u001b[0m\u001b[0;34m)\u001b[0m\u001b[0;34m\u001b[0m\u001b[0;34m\u001b[0m\u001b[0m\n\u001b[0m\u001b[1;32m     11\u001b[0m \u001b[0;34m\u001b[0m\u001b[0m\n\u001b[1;32m     12\u001b[0m \u001b[0;31m# Resource: https://pandas.pydata.org/pandas-docs/stable/reference/api/pandas.DataFrame.html\u001b[0m\u001b[0;34m\u001b[0m\u001b[0;34m\u001b[0m\u001b[0m\n",
      "\u001b[0;31mTypeError\u001b[0m: object of type 'ellipsis' has no len()"
     ]
    }
   ],
   "source": [
    "import numpy as np\n",
    "np.random.seed(42)\n",
    "\n",
    "# Load data into dataframe using pandas\n",
    "df = ...\n",
    "\n",
    "# Display first 5 rows\n",
    "\n",
    "\n",
    "print(f\"Length of dataset {len(df)}\")\n",
    "\n",
    "# Resource: https://pandas.pydata.org/pandas-docs/stable/reference/api/pandas.DataFrame.html"
   ]
  },
  {
   "cell_type": "markdown",
   "metadata": {},
   "source": [
    "## 2. EDA - Exploratory Data Analysis\n",
    "\n",
    "What does each feature represent?"
   ]
  },
  {
   "cell_type": "markdown",
   "metadata": {},
   "source": [
    "| Variable      | Definition                                 | Key                                                |\n",
    "|---------------|--------------------------------------------|----------------------------------------------------|\n",
    "| `PassengerId` | Unique passenger identifier                |                                                    |\n",
    "| `Survived`    | Survival                                   | 0 = No, 1 = Yes                                    |\n",
    "| `Pclass`      | Ticket class                               | 1 = 1st (Upper), 2 = 2nd (Middle), 3 = 3rd (Lower) |\n",
    "| `Name`        | Name                                       | Name includes tite, e.g. Miss. or Dr.              |\n",
    "| `Sex`         | Sex                                        |                                                    |\n",
    "| `Age`         | Age in years                               |                                                    |\n",
    "| `SibSp`       | # of siblings / spouses aboard             |                                                    |\n",
    "| `Parch`       | # of parents / children aboard             |                                                    |\n",
    "| `Ticket`      | Ticket number                              |                                                    |\n",
    "| `Fare`        | Passenger fare                             |                                                    |\n",
    "| `Cabin`       | Cabin number                               |                                                    |\n",
    "| `Embarked`    | Port of Embarkation                        | C = Cherbourg, Q = Queenstown, S = Southampton     |"
   ]
  },
  {
   "cell_type": "markdown",
   "metadata": {},
   "source": [
    "**Task:** Discuss with your neighbour about which features you think could be useful when predicting whether or not a passenger survived."
   ]
  },
  {
   "cell_type": "markdown",
   "metadata": {},
   "source": [
    "#### How many survived in our dataset? (5 min)\n",
    "**Task:** Find out how many survived, and plot the distribution.\n",
    "\n",
    "*Feature: Survived*\n",
    "\n",
    "* The `Survived` feature is our target label, and is what we want to predict\n",
    "* Values $\\in$ $\\{0, 1\\}$"
   ]
  },
  {
   "cell_type": "code",
   "execution_count": null,
   "metadata": {},
   "outputs": [],
   "source": [
    "import matplotlib.pyplot as plt\n",
    "import seaborn as sns\n",
    "\n",
    "# Calculate survival percentage\n",
    "survived_perc = df[\"Survived\"].value_counts() / len(df)\n",
    "\n",
    "# Plot count of values in survival-column\n",
    "sns.barplot(x=survived_perc.index, y=survived_perc.values)\n",
    "plt.title(\"Survivor percentages\")\n",
    "plt.ylabel(\"Percentage\")\n",
    "plt.xlabel(\"Survived\")\n",
    "\n",
    "survived_perc"
   ]
  },
  {
   "cell_type": "markdown",
   "metadata": {},
   "source": [
    "#### What's the distribution for the three ticket classes? (5 min)\n",
    "\n",
    "**Task:** Plot the ticket class counts, and percentage of survivors for each ticket class.\n",
    "\n",
    "*Feature: Pclass*\n",
    "\n",
    "* The `Pclass` represent ticket class, and represents the price classes for the tickets.\n",
    "* Could be used as a proxy for weath?\n",
    "* Values $\\in$ $\\{1, 2, 3\\}$"
   ]
  },
  {
   "cell_type": "code",
   "execution_count": null,
   "metadata": {
    "scrolled": true
   },
   "outputs": [],
   "source": [
    "# Plot a single plot with counts for each ticket class\n",
    "\n",
    "pclass_count = ...\n",
    "\n",
    "sns.barplot(x=pclass_count.index, y=pclass_count.values)\n",
    "plt.title(\"Pclass distribution\")\n",
    "plt.ylabel(\"Count\")\n",
    "plt.xlabel(\"Ticket class\");"
   ]
  },
  {
   "cell_type": "code",
   "execution_count": null,
   "metadata": {},
   "outputs": [],
   "source": [
    "# Plot a single plot with distribution of survivors for each ticket class\n",
    "# Tip: Retrieve the columns [[\"Survived\", \"Pclass\"]] and use .groupby() on \"Pclass\" and .mean()\n",
    "\n",
    "pclass_survived = ...\n",
    "\n",
    "sns.barplot(x=pclass_survived.index, y=pclass_survived.values[:, 0])\n",
    "plt.title(\"Pclass survivor distribution\")\n",
    "plt.ylabel(\"Percentage\")\n",
    "plt.xlabel(\"Ticket class\");"
   ]
  },
  {
   "cell_type": "markdown",
   "metadata": {},
   "source": [
    "What do we see?"
   ]
  },
  {
   "cell_type": "markdown",
   "metadata": {},
   "source": [
    "#### What's the distribution for sex? (5 min)\n",
    "\n",
    "**Task:** Plot the sex percentage, and percentage of survivors for male and female.\n",
    "\n",
    "*Feature: Sex*\n",
    "\n",
    "* Who is more likely to survive? A man or a woman? \n",
    "* Values $\\in$ $\\{male,\\ female\\}$\n",
    "\n"
   ]
  },
  {
   "cell_type": "code",
   "execution_count": null,
   "metadata": {},
   "outputs": [],
   "source": [
    "# Plot a single plot with percentages of dataset population for each sex, (.barplot(...))\n",
    "sex_percentage = ...\n",
    "\n",
    "\n"
   ]
  },
  {
   "cell_type": "code",
   "execution_count": null,
   "metadata": {
    "scrolled": true
   },
   "outputs": [],
   "source": [
    "# Plot survivor percentage of dataset population for each sex\n",
    "# Tip: Check out df[[desired columns]] and .groupby(...), and .barplot(...)\n",
    "sex_survivor_percentage = ...\n",
    "\n",
    "\n"
   ]
  },
  {
   "cell_type": "markdown",
   "metadata": {},
   "source": [
    "#### What's the distribution for age? (5 min)\n",
    "\n",
    "**Task:** Plot a distribution plot (`.histplot(column, kde=True)`) for the age. How many rows are missing `Age` values?\n",
    "\n",
    "\n",
    "*Tip: Use `.dropna()` to drop NaN-values and `.isna()` and `.sum()` to count NaN-values.*\n",
    "\n",
    "*Feature: Age*\n",
    "\n",
    "* Who is more likely to survive? A child, an adult or an elder?\n",
    "* Values $\\in$ $\\mathbb{Z}^{+}$"
   ]
  },
  {
   "cell_type": "code",
   "execution_count": null,
   "metadata": {},
   "outputs": [],
   "source": [
    "# Plot a distribution plot for the Age column\n",
    "\n"
   ]
  },
  {
   "cell_type": "code",
   "execution_count": null,
   "metadata": {
    "scrolled": true
   },
   "outputs": [],
   "source": [
    "# Display number of missing values for our Age-column\n",
    "\n"
   ]
  },
  {
   "cell_type": "markdown",
   "metadata": {},
   "source": [
    "#### What's the distribution for Sibling and Spouse count? (4 min)\n",
    "\n",
    "**Task:** Plot a count plot (`.countplot(x=column_name, data=df)`) for the counts of the sibling/spouse values.\n",
    "\n",
    "*Feature: SibSp*\n",
    "\n",
    "* Who is more likely to survive? Someone travelling alone or someone with siblings or children?\n",
    "* Values $\\in$ $\\{0, 1, 2, 3, 4, 5, 6, 7, 8\\}$"
   ]
  },
  {
   "cell_type": "code",
   "execution_count": null,
   "metadata": {
    "scrolled": true
   },
   "outputs": [],
   "source": [
    "# Plot the count of each possible value in the SibSp-column\n",
    "\n"
   ]
  },
  {
   "cell_type": "markdown",
   "metadata": {},
   "source": [
    "#### What's the distribution for parents and children count? (4 min)\n",
    "\n",
    "**Task:** Plot a bar plot (`.countplot(...)`) for the counts of the parents/children values.\n",
    "\n",
    "*Feature: Parch*\n",
    "\n",
    "* Who is more likely to survive? Someone travelling alone or someone with their parents or children?\n",
    "* Values $\\in$ $\\{0, 1, 2, 3, 4, 5, 6\\}$"
   ]
  },
  {
   "cell_type": "code",
   "execution_count": null,
   "metadata": {},
   "outputs": [],
   "source": [
    "# Plot the count of each possible value in the Parch-column\n",
    "\n"
   ]
  },
  {
   "cell_type": "markdown",
   "metadata": {},
   "source": [
    "**Feature: Ticket (0 min)**\n",
    "\n",
    "Ticket is a string variable showing the ticket number.\n",
    "Ticket number should not be that important for survival rate. Could be possible to extract ticket class, but as we already have this. We skip this feature."
   ]
  },
  {
   "cell_type": "markdown",
   "metadata": {},
   "source": [
    "#### What's the distribution for ticket price? (6 min)\n",
    "\n",
    "**Task:** Plot a distribution plot for the ticket prices. Also, look at description (`.describe()`) for `Fare`-column.\n",
    "\n",
    "*Feature: Fare*\n",
    "\n",
    "* Expecting this to have similar impact on survival rate as ticket class.\n",
    "* Values $\\in$ $\\mathbb{Z}^{+}$"
   ]
  },
  {
   "cell_type": "code",
   "execution_count": 2,
   "metadata": {},
   "outputs": [],
   "source": [
    "# Display description/summary of Fare-column (1 line of code)\n"
   ]
  },
  {
   "cell_type": "code",
   "execution_count": null,
   "metadata": {},
   "outputs": [],
   "source": [
    "# Plot distribution plot of Fare-values (.histplot(column, kde=True))\n",
    "\n"
   ]
  },
  {
   "cell_type": "markdown",
   "metadata": {},
   "source": [
    "**Feature: Cabin (1 min)**\n",
    "\n",
    "`Cabin` contains the cabin number for our passengers. This value is unfortunately missing for more than $2/3$ of our data. Therefore we skip this feature.\n",
    "\n",
    "**Task: Check how many rows are missing for this feature (`.isna().sum()`)**"
   ]
  },
  {
   "cell_type": "code",
   "execution_count": null,
   "metadata": {},
   "outputs": [],
   "source": [
    "# Display number of missing rows\n"
   ]
  },
  {
   "cell_type": "markdown",
   "metadata": {},
   "source": [
    "#### What's the distribution for place of embarkment? (6 min)\n",
    "\n",
    "**Task:** Plot the counts (`.countplot(...)`) for all places of embarkment, and another plot of survivor rates for each place of embarkment.\n",
    "\n",
    "*Feature: Embarked*\n",
    "* Initial thoughts: The city of where a passenger departed should not effect the survival rate. \n",
    "* Values $\\in$ $\\{S, C, Q, NaN\\}$\n",
    "    * S: Southampton\n",
    "    * C: Cherbourg\n",
    "    * Q: Queenstown"
   ]
  },
  {
   "cell_type": "code",
   "execution_count": null,
   "metadata": {},
   "outputs": [],
   "source": [
    "# Plot counts for each place of embarkment\n",
    "\n"
   ]
  },
  {
   "cell_type": "code",
   "execution_count": null,
   "metadata": {},
   "outputs": [],
   "source": [
    "# Plot survival rates for each place of embarkment\n",
    "embarked_survival = ...\n",
    "\n"
   ]
  },
  {
   "cell_type": "markdown",
   "metadata": {},
   "source": [
    "## 3. Feature Engineering\n",
    "\n",
    "1. Which features do we want to use.\n",
    "2. Change features so they are able to be inputted to our models\n",
    "3. Fix missing values"
   ]
  },
  {
   "cell_type": "code",
   "execution_count": 3,
   "metadata": {},
   "outputs": [],
   "source": [
    "# Display which columns are missing values, and how many (.isnull().sum())\n",
    "# Time 1 min\n"
   ]
  },
  {
   "cell_type": "markdown",
   "metadata": {},
   "source": [
    "### Column: Title"
   ]
  },
  {
   "cell_type": "code",
   "execution_count": null,
   "metadata": {},
   "outputs": [],
   "source": [
    "df[\"Name\"].head()"
   ]
  },
  {
   "cell_type": "markdown",
   "metadata": {},
   "source": [
    "As we can see, people are having titles in their names. These say alot about a passengers position in the society.\n",
    "\n",
    "Description of all titles we have present:\n",
    "\n",
    "| Mr           | Adult Male                         |\n",
    "|--------------|------------------------------------|\n",
    "| Miss         | An unmarried (usually young) woman |\n",
    "| Mrs          | A married woman                    |\n",
    "| Master       | A boy                              |\n",
    "| Dr           | A Doctor title                     |\n",
    "| Rev          | Reverent                           |\n",
    "| Col          | Military title                     |\n",
    "| Mlle         | Mademoiselle                       |\n",
    "| Major        | Military title                     |\n",
    "| Ms           | Mrs                                |\n",
    "| Don          | Mr in Spanish                      |\n",
    "| Dona         | Mrs in Spanish                     |\n",
    "| Lady         | Woman with high social status      |\n",
    "| Capt         | Military title                     |\n",
    "| Jonkheer     | Low nobility rank                  |\n",
    "| Mme          | Madam                              |\n",
    "| the Countess | Nobility title                     |\n",
    "| Sir          | Titled knights                     |"
   ]
  },
  {
   "cell_type": "markdown",
   "metadata": {},
   "source": [
    "**Task: Create a column called `Title` with the titles in the passanger's names. (8 min)** \n",
    "\n",
    "*Tip: Check out `.apply(lambda s: ....)`, and split on the necessary seperators that you find necessary (see first five rows from above). The apply function will return what the lambda function returns for each row in the column.*"
   ]
  },
  {
   "cell_type": "code",
   "execution_count": null,
   "metadata": {},
   "outputs": [],
   "source": [
    "# Create a titles variable with the titles in the Name-column and assign it to a Title-column in our dataframe\n",
    "titles = df[\"Name\"].apply(lambda s: ...)\n",
    "\n",
    "# Assign titles to a new column Title in our dataframe \n",
    "\n",
    "\n",
    "# Display all unique titles (.unique())\n",
    "\n"
   ]
  },
  {
   "cell_type": "markdown",
   "metadata": {},
   "source": [
    "**Task:** \n",
    "\n",
    "1. Join the rare titles {`Dr`, `Rev`, `Major`, `Col`, `Jonkheer`, `the Countess`, `Capt`, `Lady`, `Sir`} to a common label `High title`\n",
    "2. Replace the following:\n",
    "    * `Don` $\\rightarrow$ `Mr`\n",
    "    * `Dona` and `Mme` $\\rightarrow$ `Mrs`\n",
    "    * `Mlle` and `Ms` $\\rightarrow$ `Miss`\n",
    "3. Verify that we have replaced our titles correctly, by displaying all unique values with their respective counts in our Title-column (`.value_counts()`).\n",
    "    \n",
    "*Tip: Check out `.replace('target', 'replace')` or `.replace(['target1', 'target2'], 'replace')`*."
   ]
  },
  {
   "cell_type": "code",
   "execution_count": null,
   "metadata": {
    "scrolled": false
   },
   "outputs": [],
   "source": [
    "# Join and replace titles as specified above\n",
    "\n",
    "df[\"Title\"] = df[\"Title\"].replace([titles], replace_title)\n",
    "...\n",
    "...\n",
    "...\n",
    "\n",
    "# Display all unique values with counts\n",
    "\n"
   ]
  },
  {
   "cell_type": "markdown",
   "metadata": {},
   "source": [
    "### Column: Age\n",
    "\n",
    "As we saw above, the `Age` column have $177$ missing values. How should we replace them?\n",
    "\n",
    "*Idea: Replace age based on average age within their title. Should be a good approximate for their age.*\n",
    "\n",
    "**Tasks:**\n",
    "1. **Find the average age for each title. (4 min)**\n",
    "2. **Assign those values to rows that have missing values for Age, for each title. (4 min)**\n",
    "3. **Verify that all missing values for Age-column are gone. (1 min)**\n",
    "\n",
    "*Tip: See `.groupby(...)` and `.mean()`*"
   ]
  },
  {
   "cell_type": "code",
   "execution_count": null,
   "metadata": {},
   "outputs": [],
   "source": [
    "# 1. Create a dataframe containing the average age for each title\n",
    "\n",
    "avg_age_title = ...\n",
    "\n",
    "avg_age_title"
   ]
  },
  {
   "cell_type": "code",
   "execution_count": null,
   "metadata": {},
   "outputs": [],
   "source": [
    "# 2. Assign age for missing values, using mean age of titles\n",
    "# Tip: Use .loc[] and .isna() and &-operator in .loc\n",
    "# E.g.: df.loc[(df[column].isna()) & (df[column] == desired_value), column] = avg_age_title[desired_title, column]\n",
    "\n",
    "\n",
    "\n",
    "\n"
   ]
  },
  {
   "cell_type": "code",
   "execution_count": null,
   "metadata": {},
   "outputs": [],
   "source": [
    "# 3. Check that all missing values are gone.\n",
    "\n"
   ]
  },
  {
   "cell_type": "markdown",
   "metadata": {},
   "source": [
    "### Column: SibSp and Parch\n",
    "\n",
    "We have two columns representing size of each passenger's family on-board. We will now make a column that specifies whether or not a passenger has a family member on board.\n",
    "\n",
    "**Task: Create a column `HasFamily` with values 1 = *has family* and 0 = *travelling alone*. (4 min)**"
   ]
  },
  {
   "cell_type": "code",
   "execution_count": null,
   "metadata": {},
   "outputs": [],
   "source": [
    "# Initialize column with zeroes, fill with 1's for passengers with family\n",
    "...\n",
    "\n",
    "# Create a boolean list for passengers that do have family. Use addition, and the > or < operator \n",
    "has_family = ...\n",
    "\n",
    "# Use .loc[boolean_list, column] to assign 1's to all rows that fulfills the has_family condition\n",
    "..."
   ]
  },
  {
   "cell_type": "code",
   "execution_count": null,
   "metadata": {
    "scrolled": true
   },
   "outputs": [],
   "source": [
    "# Check that our results are as expected, show the head of our dataframe\n"
   ]
  },
  {
   "cell_type": "markdown",
   "metadata": {},
   "source": [
    "### Column: Sex\n",
    "\n",
    "We have a column `Sex` that specifies whether or not a passenger is a *male* or *female*. \n",
    "An idea would be to include a value for passengers that are children within this column.\n",
    "\n",
    "**Task: Assign `child` as value for passengers that are younger than 10 in our `Sex`-column. (4 min)**\n",
    "\n",
    "*Tip: See `.loc[condition, column]` again.*"
   ]
  },
  {
   "cell_type": "code",
   "execution_count": 4,
   "metadata": {},
   "outputs": [],
   "source": [
    "# Assign child as value for passenger younger than 10 (Use < operator)\n"
   ]
  },
  {
   "cell_type": "code",
   "execution_count": null,
   "metadata": {},
   "outputs": [],
   "source": [
    "# Plotting avg survival rate\n",
    "sns.barplot(x='Sex', y='Survived', data=df, ci=None)\n",
    "plt.title(\"Survival rate per passenger category\");"
   ]
  },
  {
   "cell_type": "markdown",
   "metadata": {},
   "source": [
    "## 4. Feature selection\n",
    "\n",
    "Which features do we want to feed into our models? \n",
    "In what format do we want to input our features?\n",
    "\n",
    "**Keep:**\n",
    "1. `Survived` - as it is our target label\n",
    "2. `Title` - would say much about passenger's status in society\n",
    "3. `HasFamily` - more likely to survive if not travelling alone\n",
    "4. `Pclass` - ticket class represents the price classes for the tickets, could be proxy for wealth\n",
    "5. `Sex` - passenger's sex could be an important factor, as we see in our plot above.\n",
    "\n",
    "**Remove:**\n",
    "1. `Name` - remove as we have captured it's important information in `Title`-column\n",
    "2. `SibSp` and `Parch` - remove as we have a `HasFamily`-column capturing if a passenger is travelling alone.\n",
    "3. `Ticket` - remove as we assume it does not provide important information about the passenger's survival rate\n",
    "4. `Cabin`- remove at is has mostly missing values\n",
    "5. `Fare`- remove as we are using `Pclass` and `Title` to indicate wealth \n",
    "6. `Age` - remove as we now have captured whether or not a passenger is a child in the `Sex`-column\n",
    "\n",
    "**Task: Fetch the columns listed in *Keep* above (3 min)**"
   ]
  },
  {
   "cell_type": "code",
   "execution_count": null,
   "metadata": {
    "scrolled": false
   },
   "outputs": [],
   "source": [
    "# Create a list called usecols containing columns we want to use in our predictions\n",
    "usecols = ...\n",
    "\n",
    "# Extract the columns in our df in a new dataframe called data\n",
    "# Tip: df[desired_columns]\n",
    "data = ...\n",
    "data.head()"
   ]
  },
  {
   "cell_type": "markdown",
   "metadata": {},
   "source": [
    "### Splitting our data\n",
    "\n",
    "In order to evaluate our model, we have to seperate our data into a training set and a test set.\n",
    "The test set should never be used to train or tune the model, but can be used to evaluate a model after fitting.\n",
    "\n",
    "Use `test_size = 0.2` and `random_state = 42` for the `train_test_split`-method.\n",
    "\n",
    "**Time: 4 min**"
   ]
  },
  {
   "cell_type": "code",
   "execution_count": null,
   "metadata": {},
   "outputs": [],
   "source": [
    "from sklearn.model_selection import train_test_split\n",
    "\n",
    "# Seperate our columns into X (features), y (target labels)\n",
    "X, y = ...\n",
    "\n",
    "# Split our data with a 0.8/0.2 train-test-split\n",
    "X_train, X_test, y_train, y_test = ...\n",
    "\n",
    "print(f\"Training set size: {len(X_train)}\")\n",
    "print(f\"Testing set size: {len(X_test)}\")"
   ]
  },
  {
   "cell_type": "code",
   "execution_count": null,
   "metadata": {},
   "outputs": [],
   "source": [
    "# Display the head of our training data\n",
    "X_train.head()"
   ]
  },
  {
   "cell_type": "markdown",
   "metadata": {},
   "source": [
    "#### Data representation\n",
    "\n",
    "How should we represent our data as we are feeding it into our models?\n",
    "I present two widely used options:\n",
    "\n",
    "1. Categorical values should be ordinal, e.g. $\\{male,\\ female,\\ child\\} \\rightarrow \\{0, 1 , 2\\}$, or \n",
    "2. Categorical values should be one-hot-encoded, e.g. $\\{male,\\ female,\\ child\\}$ will be seperated into a binary column for each category, where 1 means that it is true. \n",
    "\n",
    "For our first attempt at predicting the surviving passengers we will go with *Option 2.*\n",
    "\n",
    "*Tips:*\n",
    "* *Fit and transform on training data (`fit_transform(...)`)*\n",
    "* *Transform on test data (`transform(...)`)*\n",
    "\n",
    "**Time: 4 min**"
   ]
  },
  {
   "cell_type": "code",
   "execution_count": null,
   "metadata": {},
   "outputs": [],
   "source": [
    "from sklearn.preprocessing import OneHotEncoder\n",
    "encoder = ...  # Initialize OneHotEncoder-object\n",
    "\n",
    "X_train = ...  # Fit encoder and transform training data\n",
    "X_test  = ...  # Transform test data\n",
    "\n",
    "# Make data to arrays instead of sparse matrices.\n",
    "# Tip use .toarray()\n",
    "\n",
    "X_train, X_test = ..., ..."
   ]
  },
  {
   "cell_type": "code",
   "execution_count": null,
   "metadata": {},
   "outputs": [],
   "source": [
    "# Which binary columns have we created for are data?\n",
    "encoder.get_feature_names(X.columns)"
   ]
  },
  {
   "cell_type": "markdown",
   "metadata": {},
   "source": [
    "## 5. Machine Learning and Model Prediciton\n",
    "\n",
    "**Steps:**\n",
    "\n",
    "1. Understand model\n",
    "2. Fit model on training data\n",
    "3. Predict survivors on test data\n",
    "4. Evaluate model on performance on both training and test data"
   ]
  },
  {
   "cell_type": "markdown",
   "metadata": {},
   "source": [
    "### Logistic regression\n",
    "\n",
    "As a difference from linear regression, which is a linear function that predicts values in $\\mathbb{R}$, when we use logistic regression our output will always be in $[0, 1]$, which is great when predicting probabilities.\n",
    "\n",
    "**Short (perhaps too short) introduction to logisitic regression:**\n",
    "\n",
    "First, the logistic model used to predict probabilities:\n",
    "\n",
    "$$\n",
    "\\begin{aligned}\n",
    "f_\\hat{\\boldsymbol{\\theta}} (\\textbf{x}) = \\sigma(\\hat{\\boldsymbol{\\theta}} \\cdot \\textbf{x})\n",
    "\\end{aligned}\n",
    "$$\n",
    "\n",
    "The difference from linear regression, is that we send our trained weights multiplied with our feature-values through a sigmoid function $\\sigma$, which outputs values in $[0, 1]$. The sigmoid function is defined as \n",
    "\n",
    "$$\n",
    "\\sigma(\\hat{\\boldsymbol{\\theta}} \\cdot \\textbf{x}) = \\frac{1}{1 + e^{-\\hat{\\boldsymbol{\\theta}} \\cdot \\textbf{x}}}\n",
    "$$\n",
    "\n",
    "Then, the cross-entropy loss function:\n",
    "\n",
    "$$\n",
    "\\begin{aligned}\n",
    "L(\\boldsymbol{\\theta}, \\textbf{X}, \\textbf{y}) = \\frac{1}{n} \\sum_i \\left(- y_i \\ln \\sigma_i - (1 - y_i) \\ln (1 - \\sigma_i ) \\right), \\\\\n",
    "\\end{aligned}\n",
    "$$\n",
    "where $\\sigma_i = \\sigma(\\hat{\\boldsymbol{\\theta}} \\cdot \\textbf{x})$\n",
    "\n",
    "Finally, the gradient of the cross-entropy loss for gradient descent:\n",
    "\n",
    "$$\n",
    "\\begin{aligned}\n",
    "\\nabla_{\\boldsymbol{\\theta}} L(\\boldsymbol{\\theta}, \\textbf{X}, \\textbf{y})\n",
    "= - \\frac{1}{n} \\sum_i \\left(\n",
    "    y_i - \\sigma_i\n",
    "\\right) \\textbf{X}_i \\\\\n",
    "\\end{aligned}\n",
    "$$\n",
    "\n",
    "\n",
    "![image.png](https://i.imgur.com/SZy4W95.png)"
   ]
  },
  {
   "cell_type": "markdown",
   "metadata": {},
   "source": [
    "**Task: (5 min)**\n",
    "1. **Fit a Logistic Regression model on training data**\n",
    "2. **Predict training data and evaluate accuracy**\n",
    "3. **Predict test data**\n",
    "4. **Evaluate model performance**"
   ]
  },
  {
   "cell_type": "code",
   "execution_count": null,
   "metadata": {},
   "outputs": [],
   "source": [
    "from sklearn.linear_model import LogisticRegression\n",
    "from sklearn.metrics import accuracy_score\n",
    "\n",
    "# Define LogisticRegression model\n",
    "lr_model = ...\n",
    "\n",
    "# Fit model\n",
    "...\n",
    "\n",
    "# Predict training data\n",
    "train_preds = ...\n",
    "\n",
    "# Output accuracy on training data (.accuracy_score(target, predictions))\n",
    "train_acc = ...\n",
    "\n",
    "print(f\"Accuracy on training data: {train_acc:.4f}\")"
   ]
  },
  {
   "cell_type": "code",
   "execution_count": null,
   "metadata": {},
   "outputs": [],
   "source": [
    "# Predict test data\n",
    "test_preds = ...\n",
    "\n",
    "# Calculate accuracy on test set\n",
    "test_acc = ...\n",
    "\n",
    "print(f\"Accuracy on test data: {test_acc:.4f}\")"
   ]
  },
  {
   "cell_type": "markdown",
   "metadata": {},
   "source": [
    "### K-nearest neighbours\n",
    "\n",
    "Another widely used model for prediciton is K-nearest neighbours, which predicts a point based on the average target value for the $k$ nearest neighbours in our feature space. Can also be used for classification tasks where the model chooses the highest represented class amongst the $k$ neighbours.\n",
    "\n",
    "Since we have $n$ features in our training data, our samples (instance) will represent a point in $\\mathbb{R}^{n}$, which is a $n$-dimensional space.\n",
    "\n",
    "The model will calculate the Euclidian distance between our training samples and the point we are trying to predict, and average the target value of the $k$ closest points.\n",
    "\n",
    "$$\n",
    "\\text{Euclidian distance} = \\sqrt{\\sum_{i=1}^{k}(x_i - y_i)^2}\n",
    "$$\n",
    "\n",
    "*Example illustration:*\n",
    "![knnimage](https://www.jeremyjordan.me/content/images/2017/06/Screen-Shot-2017-06-17-at-9.30.39-AM-1.png)"
   ]
  },
  {
   "cell_type": "markdown",
   "metadata": {},
   "source": [
    "**Task: (5 min)**\n",
    "1. **Fit a K-Nearest Neighbour model on training data**\n",
    "2. **Predict training data and evaluate accuracy**\n",
    "3. **Predict test data**\n",
    "4. **Evaluate model performance**"
   ]
  },
  {
   "cell_type": "code",
   "execution_count": null,
   "metadata": {},
   "outputs": [],
   "source": [
    "from sklearn.neighbors import KNeighborsClassifier \n",
    "\n",
    "# Define model\n",
    "knn_model = ...\n",
    "\n",
    "# Fit model\n",
    "...\n",
    "\n",
    "# Predict training data\n",
    "train_preds = ...\n",
    "\n",
    "# Output accuracy on training data\n",
    "train_acc = ...\n",
    "\n",
    "print(f\"Accuracy on training data: {train_acc:.4f}\")"
   ]
  },
  {
   "cell_type": "code",
   "execution_count": null,
   "metadata": {},
   "outputs": [],
   "source": [
    "# Predict test data\n",
    "test_preds = ...\n",
    "\n",
    "# Calculate accuracy on test set\n",
    "test_acc = ...\n",
    "\n",
    "print(f\"Accuracy on test data: {test_acc:.4f}\")"
   ]
  },
  {
   "cell_type": "markdown",
   "metadata": {},
   "source": [
    "### Random Forest\n",
    "\n",
    "Another famous model architecture that used today are random forest.\n",
    "Random forests are an ensemble learning method (uses multiple models internally) for classification and regression that construcs multiple decision trees at training time and outputting the class that is the mode of the classes (classification) or mean prediction (regression) of the individual trees.\n",
    "\n",
    "**Visualization of a decision tree:**\n",
    "\n",
    "![DT](https://www.sqlshack.com/wp-content/uploads/2019/09/sample-of-a-decision-tree.png)\n",
    "\n",
    "And a random forest model consists of a multitude of these trees, in order to make a prediciton.\n",
    "The decision trees splits on a feature on each node of the tree, which is selected by a information gain metric which are based on impurity by calculating the entropy for each possible split.\n",
    "\n"
   ]
  },
  {
   "cell_type": "markdown",
   "metadata": {},
   "source": [
    "**Task: (5 min)**\n",
    "1. **Fit a Random Forest model on training data**\n",
    "2. **Predict training data and evaluate accuracy**\n",
    "3. **Predict test data**\n",
    "4. **Evaluate model performance**"
   ]
  },
  {
   "cell_type": "code",
   "execution_count": null,
   "metadata": {},
   "outputs": [],
   "source": [
    "from sklearn.ensemble import RandomForestClassifier \n",
    "\n",
    "# Define model\n",
    "rf_model = ...\n",
    "\n",
    "# Fit model\n",
    "...\n",
    "\n",
    "# Predict training data\n",
    "train_preds = ...\n",
    "\n",
    "# Output accuracy on training data\n",
    "train_acc = ...\n",
    "\n",
    "print(f\"Accuracy on training data: {train_acc:.4f}\")"
   ]
  },
  {
   "cell_type": "code",
   "execution_count": null,
   "metadata": {},
   "outputs": [],
   "source": [
    "# Predict test data\n",
    "test_preds = ...\n",
    "\n",
    "# Calculate accuracy on test set\n",
    "test_acc = ...\n",
    "\n",
    "print(f\"Accuracy on test data: {test_acc:.4f}\")"
   ]
  },
  {
   "cell_type": "markdown",
   "metadata": {},
   "source": [
    "## Further work\n",
    "\n",
    "**Ideas to do at home:**\n",
    "\n",
    "* Find more interesting features, how do they effect the accuracy of our models\n",
    "* Tune hyperparameters of the models, e.g. number of trees in Random Forest model or threshold for logistic regression. Remember to create a validation set for this, as we do not evaluate our model on test set for tuning our model.\n",
    "* Predict the `kaggle_test.csv` file and upload to Kaggle to see your models performance\n",
    "* Experiment with other models than introduced during course\n",
    "* Try similar approach on different dataset, e.g. *Boston House Pricing* dataset, see Kaggle.\n",
    "\n",
    "\n"
   ]
  }
 ],
 "metadata": {
  "kernelspec": {
   "display_name": "Python 3 (ipykernel)",
   "language": "python",
   "name": "python3"
  },
  "language_info": {
   "codemirror_mode": {
    "name": "ipython",
    "version": 3
   },
   "file_extension": ".py",
   "mimetype": "text/x-python",
   "name": "python",
   "nbconvert_exporter": "python",
   "pygments_lexer": "ipython3",
   "version": "3.10.0"
  }
 },
 "nbformat": 4,
 "nbformat_minor": 2
}
