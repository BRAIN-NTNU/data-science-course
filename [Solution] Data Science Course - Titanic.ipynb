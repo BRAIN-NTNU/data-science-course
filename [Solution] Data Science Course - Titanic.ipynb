{
 "cells": [
  {
   "cell_type": "markdown",
   "metadata": {},
   "source": [
    "# Data Science Introduction Course\n",
    "\n",
    "**Dataset:** [Titanic Competition - Kaggle](https://www.kaggle.com/c/titanic/overview)\n",
    "\n",
    "**Idea:** Use machine learning to create a model that predicts which passengers survived the Titanic shipwreck.\n",
    "\n",
    "**Available data:**\n",
    "* `data/kaggle_data.csv`: Contains the details of a subset of the passengers on board and will reveal whether they survived or not. Which is our target label.\n",
    "* `data/kaggle_test.csv`: Contains similar information but does not disclose the target label for each passenger. It’s your job to predict these outcomes.\n",
    "\n",
    "We will split our dataset into a seperate training and test set, to evaluate our model locally, but we can also predict the `kaggle_test.csv`-file and submit [here](https://www.kaggle.com/c/titanic/submit) to see our actual accuracy.\n",
    "\n",
    "<br>\n",
    "\n",
    "by Henrik Høiness"
   ]
  },
  {
   "cell_type": "markdown",
   "metadata": {},
   "source": [
    "### Quick introduction to DataFrames (5 min)\n",
    "\n",
    "Think of it as a matrix or a spreadsheet in Excel, which we can store information on a row-column basis. "
   ]
  },
  {
   "cell_type": "code",
   "execution_count": 13,
   "metadata": {},
   "outputs": [
    {
     "data": {
      "text/html": [
       "<div>\n",
       "<style scoped>\n",
       "    .dataframe tbody tr th:only-of-type {\n",
       "        vertical-align: middle;\n",
       "    }\n",
       "\n",
       "    .dataframe tbody tr th {\n",
       "        vertical-align: top;\n",
       "    }\n",
       "\n",
       "    .dataframe thead th {\n",
       "        text-align: right;\n",
       "    }\n",
       "</style>\n",
       "<table border=\"1\" class=\"dataframe\">\n",
       "  <thead>\n",
       "    <tr style=\"text-align: right;\">\n",
       "      <th></th>\n",
       "      <th>Name</th>\n",
       "      <th>Age</th>\n",
       "      <th>Hometown</th>\n",
       "    </tr>\n",
       "  </thead>\n",
       "  <tbody>\n",
       "    <tr>\n",
       "      <th>0</th>\n",
       "      <td>Henrik</td>\n",
       "      <td>23</td>\n",
       "      <td>Oslo</td>\n",
       "    </tr>\n",
       "    <tr>\n",
       "      <th>1</th>\n",
       "      <td>William</td>\n",
       "      <td>24</td>\n",
       "      <td>Ulsteinvik</td>\n",
       "    </tr>\n",
       "  </tbody>\n",
       "</table>\n",
       "</div>"
      ],
      "text/plain": [
       "      Name  Age    Hometown\n",
       "0   Henrik   23        Oslo\n",
       "1  William   24  Ulsteinvik"
      ]
     },
     "execution_count": 13,
     "metadata": {},
     "output_type": "execute_result"
    }
   ],
   "source": [
    "import pandas as pd\n",
    "\n",
    "# Example on dataframes\n",
    "example_df = pd.DataFrame([[\"Henrik\", 23, \"Oslo\"], [\"William\", 24, \"Ulsteinvik\"]], columns=[\"Name\", \"Age\", \"Hometown\"])\n",
    "\n",
    "example_df"
   ]
  },
  {
   "cell_type": "code",
   "execution_count": 14,
   "metadata": {},
   "outputs": [
    {
     "data": {
      "text/plain": [
       "0     Henrik\n",
       "1    William\n",
       "Name: Name, dtype: object"
      ]
     },
     "execution_count": 14,
     "metadata": {},
     "output_type": "execute_result"
    }
   ],
   "source": [
    "# Get Name-column as a Series (list of column values with index)\n",
    "example_df[\"Name\"]"
   ]
  },
  {
   "cell_type": "code",
   "execution_count": 15,
   "metadata": {},
   "outputs": [
    {
     "data": {
      "text/html": [
       "<div>\n",
       "<style scoped>\n",
       "    .dataframe tbody tr th:only-of-type {\n",
       "        vertical-align: middle;\n",
       "    }\n",
       "\n",
       "    .dataframe tbody tr th {\n",
       "        vertical-align: top;\n",
       "    }\n",
       "\n",
       "    .dataframe thead th {\n",
       "        text-align: right;\n",
       "    }\n",
       "</style>\n",
       "<table border=\"1\" class=\"dataframe\">\n",
       "  <thead>\n",
       "    <tr style=\"text-align: right;\">\n",
       "      <th></th>\n",
       "      <th>Name</th>\n",
       "      <th>Age</th>\n",
       "    </tr>\n",
       "  </thead>\n",
       "  <tbody>\n",
       "    <tr>\n",
       "      <th>0</th>\n",
       "      <td>Henrik</td>\n",
       "      <td>23</td>\n",
       "    </tr>\n",
       "    <tr>\n",
       "      <th>1</th>\n",
       "      <td>William</td>\n",
       "      <td>24</td>\n",
       "    </tr>\n",
       "  </tbody>\n",
       "</table>\n",
       "</div>"
      ],
      "text/plain": [
       "      Name  Age\n",
       "0   Henrik   23\n",
       "1  William   24"
      ]
     },
     "execution_count": 15,
     "metadata": {},
     "output_type": "execute_result"
    }
   ],
   "source": [
    "# Get a dataframe containing Name and Age columns\n",
    "example_df[[\"Name\", \"Age\"]]"
   ]
  },
  {
   "cell_type": "code",
   "execution_count": 16,
   "metadata": {},
   "outputs": [
    {
     "data": {
      "text/plain": [
       "Name        Henrik\n",
       "Age             23\n",
       "Hometown      Oslo\n",
       "Name: 0, dtype: object"
      ]
     },
     "execution_count": 16,
     "metadata": {},
     "output_type": "execute_result"
    }
   ],
   "source": [
    "# Get first row of dataframe\n",
    "example_df.loc[0]"
   ]
  },
  {
   "cell_type": "code",
   "execution_count": 17,
   "metadata": {
    "scrolled": true
   },
   "outputs": [
    {
     "data": {
      "text/html": [
       "<div>\n",
       "<style scoped>\n",
       "    .dataframe tbody tr th:only-of-type {\n",
       "        vertical-align: middle;\n",
       "    }\n",
       "\n",
       "    .dataframe tbody tr th {\n",
       "        vertical-align: top;\n",
       "    }\n",
       "\n",
       "    .dataframe thead th {\n",
       "        text-align: right;\n",
       "    }\n",
       "</style>\n",
       "<table border=\"1\" class=\"dataframe\">\n",
       "  <thead>\n",
       "    <tr style=\"text-align: right;\">\n",
       "      <th></th>\n",
       "      <th>Name</th>\n",
       "      <th>Age</th>\n",
       "      <th>Hometown</th>\n",
       "    </tr>\n",
       "  </thead>\n",
       "  <tbody>\n",
       "    <tr>\n",
       "      <th>1</th>\n",
       "      <td>William</td>\n",
       "      <td>24</td>\n",
       "      <td>Ulsteinvik</td>\n",
       "    </tr>\n",
       "  </tbody>\n",
       "</table>\n",
       "</div>"
      ],
      "text/plain": [
       "      Name  Age    Hometown\n",
       "1  William   24  Ulsteinvik"
      ]
     },
     "execution_count": 17,
     "metadata": {},
     "output_type": "execute_result"
    }
   ],
   "source": [
    "# Get persons older than 23\n",
    "example_df[example_df[\"Age\"] > 23]"
   ]
  },
  {
   "cell_type": "code",
   "execution_count": 18,
   "metadata": {},
   "outputs": [
    {
     "data": {
      "text/plain": [
       "0    False\n",
       "1     True\n",
       "Name: Age, dtype: bool"
      ]
     },
     "execution_count": 18,
     "metadata": {},
     "output_type": "execute_result"
    }
   ],
   "source": [
    "# Comment: example_df[\"Age\"] > 23 will create a boolean list, which says which indices to include in result\n",
    "old = example_df[\"Age\"] > 23\n",
    "old"
   ]
  },
  {
   "cell_type": "code",
   "execution_count": 19,
   "metadata": {},
   "outputs": [
    {
     "data": {
      "text/html": [
       "<div>\n",
       "<style scoped>\n",
       "    .dataframe tbody tr th:only-of-type {\n",
       "        vertical-align: middle;\n",
       "    }\n",
       "\n",
       "    .dataframe tbody tr th {\n",
       "        vertical-align: top;\n",
       "    }\n",
       "\n",
       "    .dataframe thead th {\n",
       "        text-align: right;\n",
       "    }\n",
       "</style>\n",
       "<table border=\"1\" class=\"dataframe\">\n",
       "  <thead>\n",
       "    <tr style=\"text-align: right;\">\n",
       "      <th></th>\n",
       "      <th>Name</th>\n",
       "      <th>Age</th>\n",
       "      <th>Hometown</th>\n",
       "      <th>Birthyear</th>\n",
       "    </tr>\n",
       "  </thead>\n",
       "  <tbody>\n",
       "    <tr>\n",
       "      <th>0</th>\n",
       "      <td>Henrik</td>\n",
       "      <td>23</td>\n",
       "      <td>Oslo</td>\n",
       "      <td>1997</td>\n",
       "    </tr>\n",
       "    <tr>\n",
       "      <th>1</th>\n",
       "      <td>William</td>\n",
       "      <td>24</td>\n",
       "      <td>Ulsteinvik</td>\n",
       "      <td>1996</td>\n",
       "    </tr>\n",
       "  </tbody>\n",
       "</table>\n",
       "</div>"
      ],
      "text/plain": [
       "      Name  Age    Hometown  Birthyear\n",
       "0   Henrik   23        Oslo       1997\n",
       "1  William   24  Ulsteinvik       1996"
      ]
     },
     "execution_count": 19,
     "metadata": {},
     "output_type": "execute_result"
    }
   ],
   "source": [
    "# Add column with year of birth\n",
    "from datetime import datetime\n",
    "\n",
    "year_today = datetime.now().year\n",
    "example_df[\"Birthyear\"] = year_today - example_df[\"Age\"]\n",
    "\n",
    "example_df"
   ]
  },
  {
   "cell_type": "markdown",
   "metadata": {},
   "source": [
    "## 1. Loading data"
   ]
  },
  {
   "cell_type": "markdown",
   "metadata": {},
   "source": [
    "**Task:** Load `data/kaggle_data.csv` into dataframe using pandas and display first five rows (`.head()`). Also print length of our dataset."
   ]
  },
  {
   "cell_type": "code",
   "execution_count": 20,
   "metadata": {},
   "outputs": [
    {
     "name": "stdout",
     "output_type": "stream",
     "text": [
      "Length of dataset 891\n"
     ]
    },
    {
     "data": {
      "text/html": [
       "<div>\n",
       "<style scoped>\n",
       "    .dataframe tbody tr th:only-of-type {\n",
       "        vertical-align: middle;\n",
       "    }\n",
       "\n",
       "    .dataframe tbody tr th {\n",
       "        vertical-align: top;\n",
       "    }\n",
       "\n",
       "    .dataframe thead th {\n",
       "        text-align: right;\n",
       "    }\n",
       "</style>\n",
       "<table border=\"1\" class=\"dataframe\">\n",
       "  <thead>\n",
       "    <tr style=\"text-align: right;\">\n",
       "      <th></th>\n",
       "      <th>PassengerId</th>\n",
       "      <th>Survived</th>\n",
       "      <th>Pclass</th>\n",
       "      <th>Name</th>\n",
       "      <th>Sex</th>\n",
       "      <th>Age</th>\n",
       "      <th>SibSp</th>\n",
       "      <th>Parch</th>\n",
       "      <th>Ticket</th>\n",
       "      <th>Fare</th>\n",
       "      <th>Cabin</th>\n",
       "      <th>Embarked</th>\n",
       "    </tr>\n",
       "  </thead>\n",
       "  <tbody>\n",
       "    <tr>\n",
       "      <th>0</th>\n",
       "      <td>1</td>\n",
       "      <td>0</td>\n",
       "      <td>3</td>\n",
       "      <td>Braund, Mr. Owen Harris</td>\n",
       "      <td>male</td>\n",
       "      <td>22.0</td>\n",
       "      <td>1</td>\n",
       "      <td>0</td>\n",
       "      <td>A/5 21171</td>\n",
       "      <td>7.2500</td>\n",
       "      <td>NaN</td>\n",
       "      <td>S</td>\n",
       "    </tr>\n",
       "    <tr>\n",
       "      <th>1</th>\n",
       "      <td>2</td>\n",
       "      <td>1</td>\n",
       "      <td>1</td>\n",
       "      <td>Cumings, Mrs. John Bradley (Florence Briggs Th...</td>\n",
       "      <td>female</td>\n",
       "      <td>38.0</td>\n",
       "      <td>1</td>\n",
       "      <td>0</td>\n",
       "      <td>PC 17599</td>\n",
       "      <td>71.2833</td>\n",
       "      <td>C85</td>\n",
       "      <td>C</td>\n",
       "    </tr>\n",
       "    <tr>\n",
       "      <th>2</th>\n",
       "      <td>3</td>\n",
       "      <td>1</td>\n",
       "      <td>3</td>\n",
       "      <td>Heikkinen, Miss. Laina</td>\n",
       "      <td>female</td>\n",
       "      <td>26.0</td>\n",
       "      <td>0</td>\n",
       "      <td>0</td>\n",
       "      <td>STON/O2. 3101282</td>\n",
       "      <td>7.9250</td>\n",
       "      <td>NaN</td>\n",
       "      <td>S</td>\n",
       "    </tr>\n",
       "    <tr>\n",
       "      <th>3</th>\n",
       "      <td>4</td>\n",
       "      <td>1</td>\n",
       "      <td>1</td>\n",
       "      <td>Futrelle, Mrs. Jacques Heath (Lily May Peel)</td>\n",
       "      <td>female</td>\n",
       "      <td>35.0</td>\n",
       "      <td>1</td>\n",
       "      <td>0</td>\n",
       "      <td>113803</td>\n",
       "      <td>53.1000</td>\n",
       "      <td>C123</td>\n",
       "      <td>S</td>\n",
       "    </tr>\n",
       "    <tr>\n",
       "      <th>4</th>\n",
       "      <td>5</td>\n",
       "      <td>0</td>\n",
       "      <td>3</td>\n",
       "      <td>Allen, Mr. William Henry</td>\n",
       "      <td>male</td>\n",
       "      <td>35.0</td>\n",
       "      <td>0</td>\n",
       "      <td>0</td>\n",
       "      <td>373450</td>\n",
       "      <td>8.0500</td>\n",
       "      <td>NaN</td>\n",
       "      <td>S</td>\n",
       "    </tr>\n",
       "  </tbody>\n",
       "</table>\n",
       "</div>"
      ],
      "text/plain": [
       "   PassengerId  Survived  Pclass  \\\n",
       "0            1         0       3   \n",
       "1            2         1       1   \n",
       "2            3         1       3   \n",
       "3            4         1       1   \n",
       "4            5         0       3   \n",
       "\n",
       "                                                Name     Sex   Age  SibSp  \\\n",
       "0                            Braund, Mr. Owen Harris    male  22.0      1   \n",
       "1  Cumings, Mrs. John Bradley (Florence Briggs Th...  female  38.0      1   \n",
       "2                             Heikkinen, Miss. Laina  female  26.0      0   \n",
       "3       Futrelle, Mrs. Jacques Heath (Lily May Peel)  female  35.0      1   \n",
       "4                           Allen, Mr. William Henry    male  35.0      0   \n",
       "\n",
       "   Parch            Ticket     Fare Cabin Embarked  \n",
       "0      0         A/5 21171   7.2500   NaN        S  \n",
       "1      0          PC 17599  71.2833   C85        C  \n",
       "2      0  STON/O2. 3101282   7.9250   NaN        S  \n",
       "3      0            113803  53.1000  C123        S  \n",
       "4      0            373450   8.0500   NaN        S  "
      ]
     },
     "execution_count": 20,
     "metadata": {},
     "output_type": "execute_result"
    }
   ],
   "source": [
    "import pandas as pd\n",
    "import numpy as np\n",
    "np.random.seed(42) # Setting random seed in order to have reproducability\n",
    "\n",
    "# Resource: https://pandas.pydata.org/pandas-docs/stable/reference/api/pandas.DataFrame.html\n",
    "\n",
    "# Load data into dataframe using pandas\n",
    "df = pd.read_csv(\"data/kaggle_data.csv\")\n",
    "\n",
    "print(f\"Length of dataset {len(df)}\")\n",
    "\n",
    "# Display first 5 rows\n",
    "df.head()"
   ]
  },
  {
   "cell_type": "markdown",
   "metadata": {},
   "source": [
    "## 2. EDA - Exploratory Data Analysis\n",
    "\n",
    "What does each feature represent?"
   ]
  },
  {
   "cell_type": "markdown",
   "metadata": {},
   "source": [
    "| Variable      | Definition                                 | Key                                                |\n",
    "|---------------|--------------------------------------------|----------------------------------------------------|\n",
    "| `PassengerId` | Unique passenger identifier                |                                                    |\n",
    "| `Survived`    | Survival                                   | 0 = No, 1 = Yes                                    |\n",
    "| `Pclass`      | Ticket class                               | 1 = 1st (Upper), 2 = 2nd (Middle), 3 = 3rd (Lower) |\n",
    "| `Name`        | Name                                       | Name includes title, e.g. Miss. or Dr.             |\n",
    "| `Sex`         | Sex                                        |                                                    |\n",
    "| `Age`         | Age in years                               |                                                    |\n",
    "| `SibSp`       | # of siblings and spouses aboard           |                                                    |\n",
    "| `Parch`       | # of parents and children aboard           |                                                    |\n",
    "| `Ticket`      | Ticket number                              |                                                    |\n",
    "| `Fare`        | Passenger fare                             |                                                    |\n",
    "| `Cabin`       | Cabin number                               |                                                    |\n",
    "| `Embarked`    | Port of Embarkation                        | C = Cherbourg, Q = Queenstown, S = Southampton     |"
   ]
  },
  {
   "cell_type": "markdown",
   "metadata": {},
   "source": [
    "**Task:** Discuss with your neighbour about which features you think could be useful when predicting whether or not a passenger survived."
   ]
  },
  {
   "cell_type": "markdown",
   "metadata": {},
   "source": [
    "#### How many survived in our dataset?\n",
    "**Task:** Find out how many survived, and plot the distribution.\n",
    "\n",
    "*Feature: Survived*\n",
    "\n",
    "* The `Survived` feature is our target label, and is what we want to predict\n",
    "* Values $\\in$ $\\{0, 1\\}$\n",
    "\n",
    "*Tip: Count survivors with `.value_counts()`. Plot using `sns.barplot(...)`.*\n",
    "\n",
    "#### Walkthrough:"
   ]
  },
  {
   "cell_type": "code",
   "execution_count": 21,
   "metadata": {},
   "outputs": [
    {
     "data": {
      "text/plain": [
       "0    0.616162\n",
       "1    0.383838\n",
       "Name: Survived, dtype: float64"
      ]
     },
     "execution_count": 21,
     "metadata": {},
     "output_type": "execute_result"
    },
    {
     "data": {
      "image/png": "[encoded data removed]",
      "text/plain": [
       "<Figure size 432x288 with 1 Axes>"
      ]
     },
     "metadata": {
      "needs_background": "light"
     },
     "output_type": "display_data"
    }
   ],
   "source": [
    "import matplotlib.pyplot as plt\n",
    "import seaborn as sns\n",
    "\n",
    "# Calculate survival percentage\n",
    "survived_perc = df[\"Survived\"].value_counts() / len(df)\n",
    "\n",
    "# Plot count of values in survival-column\n",
    "sns.barplot(x=survived_perc.index, y=survived_perc.values)\n",
    "plt.title(\"Survivor percentages\")\n",
    "plt.ylabel(\"Percentage\")\n",
    "plt.xlabel(\"Survived\")\n",
    "\n",
    "survived_perc"
   ]
  },
  {
   "cell_type": "markdown",
   "metadata": {},
   "source": [
    "#### What's the distribution for the three ticket classes?\n",
    "\n",
    "**Task:** Plot the ticket class counts, and percentage of survivors for each ticket class.\n",
    "\n",
    "*Feature: Pclass*\n",
    "\n",
    "* The `Pclass` represent ticket class, and represents the price classes for the tickets.\n",
    "* Could be used as a proxy for wealth?\n",
    "* Values $\\in$ $\\{1, 2, 3\\}$\n",
    "\n",
    "*Tip: Use `.groupby(...)` when investigating survivor rates per ticket class.*"
   ]
  },
  {
   "cell_type": "code",
   "execution_count": 22,
   "metadata": {
    "scrolled": true
   },
   "outputs": [
    {
     "data": {
      "image/png": "[encoded data removed]",
      "text/plain": [
       "<Figure size 432x288 with 1 Axes>"
      ]
     },
     "metadata": {
      "needs_background": "light"
     },
     "output_type": "display_data"
    }
   ],
   "source": [
    "# Plot a single plot with counts for each ticket class\n",
    "\n",
    "pclass_count = df[\"Pclass\"].value_counts()\n",
    "\n",
    "sns.barplot(x=pclass_count.index, y=pclass_count.values)\n",
    "plt.title(\"Pclass distribution\")\n",
    "plt.ylabel(\"Count\")\n",
    "plt.xlabel(\"Ticket class\");"
   ]
  },
  {
   "cell_type": "code",
   "execution_count": 23,
   "metadata": {},
   "outputs": [
    {
     "data": {
      "image/png": "[encoded data removed]",
      "text/plain": [
       "<Figure size 432x288 with 1 Axes>"
      ]
     },
     "metadata": {
      "needs_background": "light"
     },
     "output_type": "display_data"
    }
   ],
   "source": [
    "# Plot a single plot with distribution of survivors for each ticket class\n",
    "\n",
    "pclass_survived = df[[\"Pclass\", \"Survived\"]].groupby(\"Pclass\").mean()\n",
    "\n",
    "sns.barplot(x=pclass_survived.index, y=pclass_survived.values[:, 0])\n",
    "plt.title(\"Pclass survivor distribution\")\n",
    "plt.ylabel(\"Percentage\")\n",
    "plt.xlabel(\"Ticket class\");"
   ]
  },
  {
   "cell_type": "markdown",
   "metadata": {},
   "source": [
    "What do we see?"
   ]
  },
  {
   "cell_type": "markdown",
   "metadata": {},
   "source": [
    "#### What's the distribution for sex?\n",
    "\n",
    "**Task:** Plot the sex percentage, and percentage of survivors for male and female.\n",
    "\n",
    "*Feature: Sex*\n",
    "\n",
    "* Who is more likely to survive? A man or a woman? \n",
    "* Values $\\in$ $\\{male,\\ female\\}$"
   ]
  },
  {
   "cell_type": "code",
   "execution_count": 24,
   "metadata": {},
   "outputs": [
    {
     "data": {
      "image/png": "[encoded data removed]",
      "text/plain": [
       "<Figure size 432x288 with 1 Axes>"
      ]
     },
     "metadata": {
      "needs_background": "light"
     },
     "output_type": "display_data"
    }
   ],
   "source": [
    "# Plot a single plot with percentages of dataset population for each sex\n",
    "sex_percentage = df[\"Sex\"].value_counts() / len(df)\n",
    "\n",
    "sns.barplot(x=sex_percentage.index, y=sex_percentage.values)\n",
    "plt.title(\"Sex distribution\")\n",
    "plt.ylabel(\"Percentage\")\n",
    "plt.xlabel(\"Sex\");"
   ]
  },
  {
   "cell_type": "code",
   "execution_count": 25,
   "metadata": {
    "scrolled": true
   },
   "outputs": [
    {
     "data": {
      "image/png": "[encoded data removed]",
      "text/plain": [
       "<Figure size 432x288 with 1 Axes>"
      ]
     },
     "metadata": {
      "needs_background": "light"
     },
     "output_type": "display_data"
    }
   ],
   "source": [
    "# Plot survivor percentage of dataset population for each sex\n",
    "# Tip: Check out df[[desired columns]] and .groupby(...)\n",
    "sex_survivor_percentage = df[[\"Sex\", \"Survived\"]].groupby(\"Sex\").mean()\n",
    "\n",
    "sns.barplot(x=sex_survivor_percentage.index, y=sex_survivor_percentage.values[:, 0])\n",
    "plt.title(\"Survivor probability per sex\")\n",
    "plt.ylabel(\"Percentage\")\n",
    "plt.xlabel(\"Sex\");"
   ]
  },
  {
   "cell_type": "markdown",
   "metadata": {},
   "source": [
    "#### What's the distribution for age?\n",
    "\n",
    "**Task:** Plot a distribution plot (`.histplot(column, kde=True)`) for the age. How many rows are missing `Age` values?\n",
    "\n",
    "\n",
    "*Tip: Use `.isna()` and `.sum()` to count NaN-values.*\n",
    "\n",
    "*Feature: Age*\n",
    "\n",
    "* Who is more likely to survive? A child, an adult or an elder?\n",
    "* Values $\\in$ $\\mathbb{Z}^{+}$"
   ]
  },
  {
   "cell_type": "code",
   "execution_count": 27,
   "metadata": {},
   "outputs": [
    {
     "data": {
      "image/png": "[encoded data removed]",
      "text/plain": [
       "<Figure size 432x288 with 1 Axes>"
      ]
     },
     "metadata": {
      "needs_background": "light"
     },
     "output_type": "display_data"
    }
   ],
   "source": [
    "# Plot a distribution plot for the Age column\n",
    "sns.histplot(df['Age'], kde=True)\n",
    "plt.title('Age distribution on the Titanic');"
   ]
  },
  {
   "cell_type": "code",
   "execution_count": 28,
   "metadata": {
    "scrolled": true
   },
   "outputs": [
    {
     "data": {
      "text/plain": [
       "177"
      ]
     },
     "execution_count": 28,
     "metadata": {},
     "output_type": "execute_result"
    }
   ],
   "source": [
    "# Display number of missing values for our Age-column\n",
    "df['Age'].isna().sum()"
   ]
  },
  {
   "cell_type": "markdown",
   "metadata": {},
   "source": [
    "#### What's the distribution for Sibling and Spouse count?\n",
    "\n",
    "**Task:** Plot a bar plot for the counts of the sibling/spouse values.\n",
    "\n",
    "*Feature: SibSp*\n",
    "\n",
    "* Who is more likely to survive? Someone travelling alone or someone with siblings or children?\n",
    "* Values $\\in$ $\\{0, 1, 2, 3, 4, 5, 6, 7, 8\\}$"
   ]
  },
  {
   "cell_type": "code",
   "execution_count": 16,
   "metadata": {
    "scrolled": true
   },
   "outputs": [
    {
     "data": {
      "image/png": "[encoded data removed]",
      "text/plain": [
       "<Figure size 432x288 with 1 Axes>"
      ]
     },
     "metadata": {
      "needs_background": "light"
     },
     "output_type": "display_data"
    }
   ],
   "source": [
    "# Plot the count of each possible value in the SibSp-column. \n",
    "# Tip: Use .countplot(...)\n",
    "\n",
    "sns.countplot(y='SibSp', data=df)\n",
    "plt.title('# of siblings or spouces on board');"
   ]
  },
  {
   "cell_type": "markdown",
   "metadata": {},
   "source": [
    "#### What's the distribution for parents and children count?\n",
    "\n",
    "**Task:** Plot a count plot for the counts of the parents/children values.\n",
    "\n",
    "*Feature: Parch*\n",
    "\n",
    "* Who is more likely to survive? Someone travelling alone or someone with their parents or children?\n",
    "* Values $\\in$ $\\{0, 1, 2, 3, 4, 5, 6\\}$"
   ]
  },
  {
   "cell_type": "code",
   "execution_count": 17,
   "metadata": {},
   "outputs": [
    {
     "data": {
      "image/png": "[encoded data removed]",
      "text/plain": [
       "<Figure size 432x288 with 1 Axes>"
      ]
     },
     "metadata": {
      "needs_background": "light"
     },
     "output_type": "display_data"
    }
   ],
   "source": [
    "# Plot the count of each possible value in the Parch-column\n",
    "sns.countplot(x='Parch', data=df)\n",
    "plt.title('# of parents or children on board');"
   ]
  },
  {
   "cell_type": "markdown",
   "metadata": {},
   "source": [
    "**Feature: Ticket**\n",
    "\n",
    "Ticket is a string variable showing the ticket number.\n",
    "Ticket number should not be that important for survival rate. Could be possible to extract ticket class, but as we already have this. We skip this feature."
   ]
  },
  {
   "cell_type": "code",
   "execution_count": 18,
   "metadata": {},
   "outputs": [
    {
     "data": {
      "text/plain": [
       "'A/5 21171'"
      ]
     },
     "execution_count": 18,
     "metadata": {},
     "output_type": "execute_result"
    }
   ],
   "source": [
    "df[\"Ticket\"].iloc[0]"
   ]
  },
  {
   "cell_type": "markdown",
   "metadata": {},
   "source": [
    "#### What's the distribution for ticket price?\n",
    "\n",
    "**Task:** Plot a distribution plot for the ticket prices. Also, look at description (`.describe()`) for `Fare`-column.\n",
    "\n",
    "*Feature: Fare*\n",
    "\n",
    "* Expecting this to have similar impact on survival rate as ticket class.\n",
    "* Values $\\in$ $\\mathbb{Z}^{+}$"
   ]
  },
  {
   "cell_type": "code",
   "execution_count": 29,
   "metadata": {},
   "outputs": [
    {
     "data": {
      "text/plain": [
       "count    891.000000\n",
       "mean      32.204208\n",
       "std       49.693429\n",
       "min        0.000000\n",
       "25%        7.910400\n",
       "50%       14.454200\n",
       "75%       31.000000\n",
       "max      512.329200\n",
       "Name: Fare, dtype: float64"
      ]
     },
     "execution_count": 29,
     "metadata": {},
     "output_type": "execute_result"
    }
   ],
   "source": [
    "# Display description/summary of Fare-column (1 line of code)\n",
    "df.describe()[\"Fare\"]"
   ]
  },
  {
   "cell_type": "code",
   "execution_count": 20,
   "metadata": {},
   "outputs": [
    {
     "data": {
      "image/png": "[encoded data removed]",
      "text/plain": [
       "<Figure size 432x288 with 1 Axes>"
      ]
     },
     "metadata": {
      "needs_background": "light"
     },
     "output_type": "display_data"
    }
   ],
   "source": [
    "# Plot distribution plot of Fare-values (.histplot(column, kde=True))\n",
    "sns.histplot(df['Fare'], kde=True)\n",
    "plt.title(\"Distribution of Ticket Fares\");\n",
    "plt.xlim(0, 300);"
   ]
  },
  {
   "cell_type": "markdown",
   "metadata": {},
   "source": [
    "**Feature: Cabin**\n",
    "\n",
    "`Cabin` contains the cabin number for our passengers. This value is unfortunately missing for more than $2/3$ of our data. Therefore we skip this feature.\n",
    "\n",
    "**Task: Check how many rows are missing for this feature (`.isna().sum()`)**"
   ]
  },
  {
   "cell_type": "code",
   "execution_count": 21,
   "metadata": {},
   "outputs": [
    {
     "data": {
      "text/plain": [
       "687"
      ]
     },
     "execution_count": 21,
     "metadata": {},
     "output_type": "execute_result"
    }
   ],
   "source": [
    "# Display number of missing rows\n",
    "df[\"Cabin\"].isna().sum()"
   ]
  },
  {
   "cell_type": "markdown",
   "metadata": {},
   "source": [
    "#### What's the distribution for place of embarkment? \n",
    "\n",
    "**Task:** Plot the counts (`.countplot(x=..., data=...)`) for all places of embarkment, and another plot of survivor rates for each place of embarkment.\n",
    "\n",
    "*Feature: Embarked*\n",
    "* Initial thoughts: The city of where a passenger departed should not effect the survival rate. \n",
    "* Values $\\in$ $\\{S, C, Q, NaN\\}$\n",
    "    * S: Southampton\n",
    "    * C: Cherbourg\n",
    "    * Q: Queenstown\n",
    "    \n",
    "*Tips: Use `.groupby(...)` for survival rates.*"
   ]
  },
  {
   "cell_type": "code",
   "execution_count": 22,
   "metadata": {},
   "outputs": [
    {
     "data": {
      "image/png": "[encoded data removed]",
      "text/plain": [
       "<Figure size 432x288 with 1 Axes>"
      ]
     },
     "metadata": {
      "needs_background": "light"
     },
     "output_type": "display_data"
    }
   ],
   "source": [
    "# Plot counts for each place of embarkment\n",
    "sns.countplot(x=\"Embarked\", data=df)\n",
    "plt.title(\"Counts for embarkments\");"
   ]
  },
  {
   "cell_type": "code",
   "execution_count": 23,
   "metadata": {},
   "outputs": [
    {
     "data": {
      "image/png": "[encoded data removed]",
      "text/plain": [
       "<Figure size 432x288 with 1 Axes>"
      ]
     },
     "metadata": {
      "needs_background": "light"
     },
     "output_type": "display_data"
    }
   ],
   "source": [
    "# Plot survival rates for each place of embarkment\n",
    "embarked_survival = df[[\"Embarked\", \"Survived\"]].groupby(\"Embarked\").mean()\n",
    "sns.barplot(x=embarked_survival.index, y=embarked_survival.values[:, 0])\n",
    "plt.title(\"Survival rate per city of embarkment\");\n",
    "plt.ylabel(\"Survival rate\");"
   ]
  },
  {
   "cell_type": "markdown",
   "metadata": {},
   "source": [
    "## 3. Feature Engineering\n",
    "\n",
    "1. Which features do we want to use.\n",
    "2. Change features so they are able to be inputted to our models\n",
    "3. Fix missing values"
   ]
  },
  {
   "cell_type": "code",
   "execution_count": 24,
   "metadata": {},
   "outputs": [
    {
     "data": {
      "text/plain": [
       "PassengerId      0\n",
       "Survived         0\n",
       "Pclass           0\n",
       "Name             0\n",
       "Sex              0\n",
       "Age            177\n",
       "SibSp            0\n",
       "Parch            0\n",
       "Ticket           0\n",
       "Fare             0\n",
       "Cabin          687\n",
       "Embarked         2\n",
       "dtype: int64"
      ]
     },
     "execution_count": 24,
     "metadata": {},
     "output_type": "execute_result"
    }
   ],
   "source": [
    "# Display which columns are missing values, and how many (.isnull().sum())\n",
    "\n",
    "df.isnull().sum()"
   ]
  },
  {
   "cell_type": "markdown",
   "metadata": {},
   "source": [
    "### Column: Title"
   ]
  },
  {
   "cell_type": "code",
   "execution_count": 25,
   "metadata": {},
   "outputs": [
    {
     "data": {
      "text/plain": [
       "0                              Braund, Mr. Owen Harris\n",
       "1    Cumings, Mrs. John Bradley (Florence Briggs Th...\n",
       "2                               Heikkinen, Miss. Laina\n",
       "3         Futrelle, Mrs. Jacques Heath (Lily May Peel)\n",
       "4                             Allen, Mr. William Henry\n",
       "Name: Name, dtype: object"
      ]
     },
     "execution_count": 25,
     "metadata": {},
     "output_type": "execute_result"
    }
   ],
   "source": [
    "df[\"Name\"].head()"
   ]
  },
  {
   "cell_type": "markdown",
   "metadata": {},
   "source": [
    "As we can see, people are having titles in their names. These say alot about a passengers position in the society.\n",
    "\n",
    "Description of all titles we have present:\n",
    "\n",
    "| Mr           | Adult Male                         |\n",
    "|--------------|------------------------------------|\n",
    "| Miss         | An unmarried (usually young) woman |\n",
    "| Mrs          | A married woman                    |\n",
    "| Master       | A boy                              |\n",
    "| Dr           | A Doctor title                     |\n",
    "| Rev          | Reverent                           |\n",
    "| Col          | Military title                     |\n",
    "| Mlle         | Mademoiselle                       |\n",
    "| Major        | Military title                     |\n",
    "| Ms           | Mrs                                |\n",
    "| Don          | Mr in Spanish                      |\n",
    "| Dona         | Mrs in Spanish                     |\n",
    "| Lady         | Woman with high social status      |\n",
    "| Capt         | Military title                     |\n",
    "| Jonkheer     | Low nobility rank                  |\n",
    "| Mme          | Madam                              |\n",
    "| the Countess | Nobility title                     |\n",
    "| Sir          | Titled knights                     |"
   ]
  },
  {
   "cell_type": "markdown",
   "metadata": {},
   "source": [
    "**Task: Create a column called `Title` with the titles in the passanger's names.**\n",
    "\n",
    "*Tip: Check out `.apply(lambda s: ....)`, and split (`.split(seperator)`) on the necessary seperators that you find necessary (see first five rows from above)*"
   ]
  },
  {
   "cell_type": "code",
   "execution_count": 26,
   "metadata": {},
   "outputs": [
    {
     "data": {
      "text/plain": [
       "array(['Mr', 'Mrs', 'Miss', 'Master', 'Don', 'Rev', 'Dr', 'Mme', 'Ms',\n",
       "       'Major', 'Lady', 'Sir', 'Mlle', 'Col', 'Capt', 'the Countess',\n",
       "       'Jonkheer'], dtype=object)"
      ]
     },
     "execution_count": 26,
     "metadata": {},
     "output_type": "execute_result"
    }
   ],
   "source": [
    "# Create a titles variable with the titles in the Name-column and assign it to a Title-column in our dataframe\n",
    "titles = df[\"Name\"].apply(lambda s: s.split(\", \")[1].split(\".\")[0])\n",
    "df[\"Title\"] = titles\n",
    "\n",
    "titles.unique()"
   ]
  },
  {
   "cell_type": "markdown",
   "metadata": {},
   "source": [
    "**Task:** \n",
    "\n",
    "1. Join the rare titles {`Dr`, `Rev`, `Major`, `Col`, `Jonkheer`, `the Countess`, `Capt`, `Lady`, `Sir`} to a common label `High title`\n",
    "2. Replace the following:\n",
    "    * `Don` $\\rightarrow$ `Mr`\n",
    "    * `Dona` and `Mme` $\\rightarrow$ `Mrs`\n",
    "    * `Mlle` and `Ms` $\\rightarrow$ `Miss`\n",
    "3. Verify that we have replaced our titles correctly, by displaying all unique values with their respective counts in our `Title`-column (`.value_counts()`).\n",
    "    \n",
    "*Tip: Check out `.replace('target', 'replace')` or `.replace(['target1', 'target2'], 'replace')`*."
   ]
  },
  {
   "cell_type": "code",
   "execution_count": 27,
   "metadata": {
    "scrolled": false
   },
   "outputs": [
    {
     "data": {
      "text/plain": [
       "Mr            518\n",
       "Miss          185\n",
       "Mrs           126\n",
       "Master         40\n",
       "High title     22\n",
       "Name: Title, dtype: int64"
      ]
     },
     "execution_count": 27,
     "metadata": {},
     "output_type": "execute_result"
    }
   ],
   "source": [
    "# Join and replace titles as specified above\n",
    "\n",
    "df[\"Title\"] = df[\"Title\"].replace([\"Dr\", \"Rev\", \"Major\", \"Col\", \"Jonkheer\", \"the Countess\", \"Capt\", \"Lady\", \"Sir\"], \"High title\")\n",
    "df[\"Title\"] = df[\"Title\"].replace(\"Don\", \"Mr\")\n",
    "df[\"Title\"] = df[\"Title\"].replace([\"Dona\", \"Mme\"], \"Mrs\")\n",
    "df[\"Title\"] = df[\"Title\"].replace([\"Mlle\", \"Ms\"], \"Miss\")\n",
    "\n",
    "df[\"Title\"].value_counts()"
   ]
  },
  {
   "cell_type": "markdown",
   "metadata": {},
   "source": [
    "### Column: Age\n",
    "\n",
    "As we saw above, the `Age` column have $177$ missing values. How should we replace them?\n",
    "\n",
    "*Idea: Replace age based on average age within their title. Should be a good approximate for their age.*\n",
    "\n",
    "**Task: Find the average age for each title.**\n",
    "\n",
    "*Tip: See `.groupby(...)` and `.mean()`*"
   ]
  },
  {
   "cell_type": "code",
   "execution_count": 28,
   "metadata": {},
   "outputs": [
    {
     "data": {
      "text/html": [
       "<div>\n",
       "<style scoped>\n",
       "    .dataframe tbody tr th:only-of-type {\n",
       "        vertical-align: middle;\n",
       "    }\n",
       "\n",
       "    .dataframe tbody tr th {\n",
       "        vertical-align: top;\n",
       "    }\n",
       "\n",
       "    .dataframe thead th {\n",
       "        text-align: right;\n",
       "    }\n",
       "</style>\n",
       "<table border=\"1\" class=\"dataframe\">\n",
       "  <thead>\n",
       "    <tr style=\"text-align: right;\">\n",
       "      <th></th>\n",
       "      <th>Age</th>\n",
       "    </tr>\n",
       "    <tr>\n",
       "      <th>Title</th>\n",
       "      <th></th>\n",
       "    </tr>\n",
       "  </thead>\n",
       "  <tbody>\n",
       "    <tr>\n",
       "      <th>High title</th>\n",
       "      <td>45.809524</td>\n",
       "    </tr>\n",
       "    <tr>\n",
       "      <th>Master</th>\n",
       "      <td>4.574167</td>\n",
       "    </tr>\n",
       "    <tr>\n",
       "      <th>Miss</th>\n",
       "      <td>21.845638</td>\n",
       "    </tr>\n",
       "    <tr>\n",
       "      <th>Mr</th>\n",
       "      <td>32.387218</td>\n",
       "    </tr>\n",
       "    <tr>\n",
       "      <th>Mrs</th>\n",
       "      <td>35.788991</td>\n",
       "    </tr>\n",
       "  </tbody>\n",
       "</table>\n",
       "</div>"
      ],
      "text/plain": [
       "                  Age\n",
       "Title                \n",
       "High title  45.809524\n",
       "Master       4.574167\n",
       "Miss        21.845638\n",
       "Mr          32.387218\n",
       "Mrs         35.788991"
      ]
     },
     "execution_count": 28,
     "metadata": {},
     "output_type": "execute_result"
    }
   ],
   "source": [
    "# Create a dataframe containing the average age for each title\n",
    "\n",
    "avg_age_title = df[[\"Title\", \"Age\"]].groupby(\"Title\").mean()\n",
    "avg_age_title"
   ]
  },
  {
   "cell_type": "code",
   "execution_count": 29,
   "metadata": {},
   "outputs": [],
   "source": [
    "# Assign age for missing values, using mean age of titles\n",
    "# Tip: Use .loc[] and .isna() and &-operator in .loc\n",
    "# E.g.: df.loc[(df[column].isna()) & (df[column] == desired_value), column] = avg_value_title.loc[desired_title, column]\n",
    "\n",
    "df.loc[(df[\"Age\"].isna()) & (df[\"Title\"] == \"High title\"), \"Age\"] = avg_age_title.loc[\"High title\", \"Age\"]\n",
    "df.loc[(df[\"Age\"].isna()) & (df[\"Title\"] == \"Master\"), \"Age\"]     = avg_age_title.loc[\"Master\", \"Age\"]\n",
    "df.loc[(df[\"Age\"].isna()) & (df[\"Title\"] == \"Miss\"), \"Age\"]       = avg_age_title.loc[\"Miss\", \"Age\"]\n",
    "df.loc[(df[\"Age\"].isna()) & (df[\"Title\"] == \"Mr\"), \"Age\"]         = avg_age_title.loc[\"Mr\", \"Age\"]\n",
    "df.loc[(df[\"Age\"].isna()) & (df[\"Title\"] == \"Mrs\"), \"Age\"]        = avg_age_title.loc[\"Mrs\", \"Age\"]"
   ]
  },
  {
   "cell_type": "code",
   "execution_count": 30,
   "metadata": {},
   "outputs": [
    {
     "data": {
      "text/plain": [
       "0"
      ]
     },
     "execution_count": 30,
     "metadata": {},
     "output_type": "execute_result"
    }
   ],
   "source": [
    "# Check that all missing values are gone.\n",
    "df[\"Age\"].isna().sum()"
   ]
  },
  {
   "cell_type": "markdown",
   "metadata": {},
   "source": [
    "### Column: SibSp and Parch\n",
    "\n",
    "We have two columns representing size of each passenger's family on-board. We will now make a column that specifies whether or not a passenger has a family member on board.\n",
    "\n",
    "**Task: Create a column `HasFamily` with values 1 = *has family* and 0 = *travelling alone*.**"
   ]
  },
  {
   "cell_type": "code",
   "execution_count": 31,
   "metadata": {},
   "outputs": [],
   "source": [
    "# Initialize column with zeroes\n",
    "df[\"HasFamily\"] = 0\n",
    "\n",
    "# Create a boolean list for passengers that do have family\n",
    "has_family = (df[\"SibSp\"] + df[\"Parch\"]) > 0\n",
    "\n",
    "# Fill with 1's for passengers with family, see .loc[]\n",
    "df.loc[has_family, \"HasFamily\"] = 1"
   ]
  },
  {
   "cell_type": "code",
   "execution_count": 32,
   "metadata": {
    "scrolled": true
   },
   "outputs": [
    {
     "data": {
      "text/html": [
       "<div>\n",
       "<style scoped>\n",
       "    .dataframe tbody tr th:only-of-type {\n",
       "        vertical-align: middle;\n",
       "    }\n",
       "\n",
       "    .dataframe tbody tr th {\n",
       "        vertical-align: top;\n",
       "    }\n",
       "\n",
       "    .dataframe thead th {\n",
       "        text-align: right;\n",
       "    }\n",
       "</style>\n",
       "<table border=\"1\" class=\"dataframe\">\n",
       "  <thead>\n",
       "    <tr style=\"text-align: right;\">\n",
       "      <th></th>\n",
       "      <th>PassengerId</th>\n",
       "      <th>Survived</th>\n",
       "      <th>Pclass</th>\n",
       "      <th>Name</th>\n",
       "      <th>Sex</th>\n",
       "      <th>Age</th>\n",
       "      <th>SibSp</th>\n",
       "      <th>Parch</th>\n",
       "      <th>Ticket</th>\n",
       "      <th>Fare</th>\n",
       "      <th>Cabin</th>\n",
       "      <th>Embarked</th>\n",
       "      <th>Title</th>\n",
       "      <th>HasFamily</th>\n",
       "    </tr>\n",
       "  </thead>\n",
       "  <tbody>\n",
       "    <tr>\n",
       "      <th>0</th>\n",
       "      <td>1</td>\n",
       "      <td>0</td>\n",
       "      <td>3</td>\n",
       "      <td>Braund, Mr. Owen Harris</td>\n",
       "      <td>male</td>\n",
       "      <td>22.0</td>\n",
       "      <td>1</td>\n",
       "      <td>0</td>\n",
       "      <td>A/5 21171</td>\n",
       "      <td>7.2500</td>\n",
       "      <td>NaN</td>\n",
       "      <td>S</td>\n",
       "      <td>Mr</td>\n",
       "      <td>1</td>\n",
       "    </tr>\n",
       "    <tr>\n",
       "      <th>1</th>\n",
       "      <td>2</td>\n",
       "      <td>1</td>\n",
       "      <td>1</td>\n",
       "      <td>Cumings, Mrs. John Bradley (Florence Briggs Th...</td>\n",
       "      <td>female</td>\n",
       "      <td>38.0</td>\n",
       "      <td>1</td>\n",
       "      <td>0</td>\n",
       "      <td>PC 17599</td>\n",
       "      <td>71.2833</td>\n",
       "      <td>C85</td>\n",
       "      <td>C</td>\n",
       "      <td>Mrs</td>\n",
       "      <td>1</td>\n",
       "    </tr>\n",
       "    <tr>\n",
       "      <th>2</th>\n",
       "      <td>3</td>\n",
       "      <td>1</td>\n",
       "      <td>3</td>\n",
       "      <td>Heikkinen, Miss. Laina</td>\n",
       "      <td>female</td>\n",
       "      <td>26.0</td>\n",
       "      <td>0</td>\n",
       "      <td>0</td>\n",
       "      <td>STON/O2. 3101282</td>\n",
       "      <td>7.9250</td>\n",
       "      <td>NaN</td>\n",
       "      <td>S</td>\n",
       "      <td>Miss</td>\n",
       "      <td>0</td>\n",
       "    </tr>\n",
       "    <tr>\n",
       "      <th>3</th>\n",
       "      <td>4</td>\n",
       "      <td>1</td>\n",
       "      <td>1</td>\n",
       "      <td>Futrelle, Mrs. Jacques Heath (Lily May Peel)</td>\n",
       "      <td>female</td>\n",
       "      <td>35.0</td>\n",
       "      <td>1</td>\n",
       "      <td>0</td>\n",
       "      <td>113803</td>\n",
       "      <td>53.1000</td>\n",
       "      <td>C123</td>\n",
       "      <td>S</td>\n",
       "      <td>Mrs</td>\n",
       "      <td>1</td>\n",
       "    </tr>\n",
       "    <tr>\n",
       "      <th>4</th>\n",
       "      <td>5</td>\n",
       "      <td>0</td>\n",
       "      <td>3</td>\n",
       "      <td>Allen, Mr. William Henry</td>\n",
       "      <td>male</td>\n",
       "      <td>35.0</td>\n",
       "      <td>0</td>\n",
       "      <td>0</td>\n",
       "      <td>373450</td>\n",
       "      <td>8.0500</td>\n",
       "      <td>NaN</td>\n",
       "      <td>S</td>\n",
       "      <td>Mr</td>\n",
       "      <td>0</td>\n",
       "    </tr>\n",
       "  </tbody>\n",
       "</table>\n",
       "</div>"
      ],
      "text/plain": [
       "   PassengerId  Survived  Pclass  \\\n",
       "0            1         0       3   \n",
       "1            2         1       1   \n",
       "2            3         1       3   \n",
       "3            4         1       1   \n",
       "4            5         0       3   \n",
       "\n",
       "                                                Name     Sex   Age  SibSp  \\\n",
       "0                            Braund, Mr. Owen Harris    male  22.0      1   \n",
       "1  Cumings, Mrs. John Bradley (Florence Briggs Th...  female  38.0      1   \n",
       "2                             Heikkinen, Miss. Laina  female  26.0      0   \n",
       "3       Futrelle, Mrs. Jacques Heath (Lily May Peel)  female  35.0      1   \n",
       "4                           Allen, Mr. William Henry    male  35.0      0   \n",
       "\n",
       "   Parch            Ticket     Fare Cabin Embarked Title  HasFamily  \n",
       "0      0         A/5 21171   7.2500   NaN        S    Mr          1  \n",
       "1      0          PC 17599  71.2833   C85        C   Mrs          1  \n",
       "2      0  STON/O2. 3101282   7.9250   NaN        S  Miss          0  \n",
       "3      0            113803  53.1000  C123        S   Mrs          1  \n",
       "4      0            373450   8.0500   NaN        S    Mr          0  "
      ]
     },
     "execution_count": 32,
     "metadata": {},
     "output_type": "execute_result"
    }
   ],
   "source": [
    "# Check that our results are as expected, show the head of our dataframe\n",
    "df.head()"
   ]
  },
  {
   "cell_type": "markdown",
   "metadata": {},
   "source": [
    "### Column: Sex\n",
    "\n",
    "We have a column `Sex` that specifies whether or not a passenger is a *male* or *female*. \n",
    "An idea would be to include a value for passengers that are children within this column.\n",
    "\n",
    "**Task: Assign `child` as value for passengers that are younger than 10 in our `Sex`-column. Then plot average survival rate per unique value in column.**\n",
    "\n",
    "*Tip: See `.loc[condition, column]` again.*"
   ]
  },
  {
   "cell_type": "code",
   "execution_count": 33,
   "metadata": {},
   "outputs": [],
   "source": [
    "# Assign child as value for passenger younger than 10\n",
    "df.loc[df[\"Age\"] <= 10, \"Sex\"] = \"child\""
   ]
  },
  {
   "cell_type": "code",
   "execution_count": 34,
   "metadata": {},
   "outputs": [
    {
     "data": {
      "image/png": "[encoded data removed]",
      "text/plain": [
       "<Figure size 432x288 with 1 Axes>"
      ]
     },
     "metadata": {
      "needs_background": "light"
     },
     "output_type": "display_data"
    }
   ],
   "source": [
    "# Plotting avg survival rate\n",
    "sns.barplot(x='Sex', y='Survived', data=df, ci=None)\n",
    "plt.title(\"Survival rate per passenger category\");"
   ]
  },
  {
   "cell_type": "markdown",
   "metadata": {},
   "source": [
    "## 4. Feature selection\n",
    "\n",
    "Which features do we want to feed into our models? \n",
    "In what format do we want to input our features?\n",
    "\n",
    "**Keep:**\n",
    "1. `Survived` - as it is our target label\n",
    "2. `Title` - would say much about passenger's status in society\n",
    "3. `HasFamily` - more likely to survive if not travelling alone\n",
    "4. `Pclass` - ticket class represents the price classes for the tickets, could be proxy for wealth\n",
    "5. `Sex` - passenger's sex could be an important factor, as we see in our plot above.\n",
    "\n",
    "**Remove:**\n",
    "1. `Name` - remove as we have captured it's important information in `Title`-column\n",
    "2. `SibSp` and `Parch` - remove as we have a `HasFamily`-column capturing if a passenger is travelling alone.\n",
    "3. `Ticket` - remove as we assume it does not provide important information about the passenger's survival rate\n",
    "4. `Cabin`- remove at is has mostly missing values\n",
    "5. `Fare`- remove as we are using `Pclass` and `Title` to indicate wealth \n",
    "6. `Age` - remove as we now have captured whether or not a passenger is a child in the `Sex`-column"
   ]
  },
  {
   "cell_type": "code",
   "execution_count": 35,
   "metadata": {
    "scrolled": false
   },
   "outputs": [
    {
     "data": {
      "text/html": [
       "<div>\n",
       "<style scoped>\n",
       "    .dataframe tbody tr th:only-of-type {\n",
       "        vertical-align: middle;\n",
       "    }\n",
       "\n",
       "    .dataframe tbody tr th {\n",
       "        vertical-align: top;\n",
       "    }\n",
       "\n",
       "    .dataframe thead th {\n",
       "        text-align: right;\n",
       "    }\n",
       "</style>\n",
       "<table border=\"1\" class=\"dataframe\">\n",
       "  <thead>\n",
       "    <tr style=\"text-align: right;\">\n",
       "      <th></th>\n",
       "      <th>Survived</th>\n",
       "      <th>Title</th>\n",
       "      <th>HasFamily</th>\n",
       "      <th>Pclass</th>\n",
       "      <th>Sex</th>\n",
       "    </tr>\n",
       "  </thead>\n",
       "  <tbody>\n",
       "    <tr>\n",
       "      <th>0</th>\n",
       "      <td>0</td>\n",
       "      <td>Mr</td>\n",
       "      <td>1</td>\n",
       "      <td>3</td>\n",
       "      <td>male</td>\n",
       "    </tr>\n",
       "    <tr>\n",
       "      <th>1</th>\n",
       "      <td>1</td>\n",
       "      <td>Mrs</td>\n",
       "      <td>1</td>\n",
       "      <td>1</td>\n",
       "      <td>female</td>\n",
       "    </tr>\n",
       "    <tr>\n",
       "      <th>2</th>\n",
       "      <td>1</td>\n",
       "      <td>Miss</td>\n",
       "      <td>0</td>\n",
       "      <td>3</td>\n",
       "      <td>female</td>\n",
       "    </tr>\n",
       "    <tr>\n",
       "      <th>3</th>\n",
       "      <td>1</td>\n",
       "      <td>Mrs</td>\n",
       "      <td>1</td>\n",
       "      <td>1</td>\n",
       "      <td>female</td>\n",
       "    </tr>\n",
       "    <tr>\n",
       "      <th>4</th>\n",
       "      <td>0</td>\n",
       "      <td>Mr</td>\n",
       "      <td>0</td>\n",
       "      <td>3</td>\n",
       "      <td>male</td>\n",
       "    </tr>\n",
       "  </tbody>\n",
       "</table>\n",
       "</div>"
      ],
      "text/plain": [
       "   Survived Title  HasFamily  Pclass     Sex\n",
       "0         0    Mr          1       3    male\n",
       "1         1   Mrs          1       1  female\n",
       "2         1  Miss          0       3  female\n",
       "3         1   Mrs          1       1  female\n",
       "4         0    Mr          0       3    male"
      ]
     },
     "execution_count": 35,
     "metadata": {},
     "output_type": "execute_result"
    }
   ],
   "source": [
    "# Create a list called usecols containing the column names we want to use in our predictions\n",
    "usecols = [\"Survived\", \"Title\", \"HasFamily\", \"Pclass\", \"Sex\"]\n",
    "\n",
    "# Extract the columns in our df in a new dataframe called data\n",
    "# Tip: df[desired_columns]\n",
    "data = df[usecols]\n",
    "data.head()"
   ]
  },
  {
   "cell_type": "markdown",
   "metadata": {},
   "source": [
    "### Splitting our data\n",
    "\n",
    "In order to evaluate our model, we have to seperate our data into a training set and a test set.\n",
    "The test set should never be used to train or tune the model, but can be used to evaluate a model after fitting.\n",
    "\n",
    "Use `test_size = 0.2` and `random_state = 42` for the `train_test_split`-method."
   ]
  },
  {
   "cell_type": "code",
   "execution_count": 36,
   "metadata": {},
   "outputs": [
    {
     "name": "stdout",
     "output_type": "stream",
     "text": [
      "Training set size: 712\n",
      "Testing set size: 179\n"
     ]
    }
   ],
   "source": [
    "from sklearn.model_selection import train_test_split\n",
    "\n",
    "# Seperate our columns into X (features), y (target labels)\n",
    "X, y = data.drop(\"Survived\", axis=1), data[\"Survived\"]\n",
    "\n",
    "# Split our data with a 0.8/0.2 train-test-split\n",
    "X_train, X_test, y_train, y_test = train_test_split(X, y, test_size=0.2, random_state=42)\n",
    "\n",
    "print(f\"Training set size: {len(X_train)}\")\n",
    "print(f\"Testing set size: {len(X_test)}\")"
   ]
  },
  {
   "cell_type": "code",
   "execution_count": 37,
   "metadata": {},
   "outputs": [
    {
     "data": {
      "text/html": [
       "<div>\n",
       "<style scoped>\n",
       "    .dataframe tbody tr th:only-of-type {\n",
       "        vertical-align: middle;\n",
       "    }\n",
       "\n",
       "    .dataframe tbody tr th {\n",
       "        vertical-align: top;\n",
       "    }\n",
       "\n",
       "    .dataframe thead th {\n",
       "        text-align: right;\n",
       "    }\n",
       "</style>\n",
       "<table border=\"1\" class=\"dataframe\">\n",
       "  <thead>\n",
       "    <tr style=\"text-align: right;\">\n",
       "      <th></th>\n",
       "      <th>Title</th>\n",
       "      <th>HasFamily</th>\n",
       "      <th>Pclass</th>\n",
       "      <th>Sex</th>\n",
       "    </tr>\n",
       "  </thead>\n",
       "  <tbody>\n",
       "    <tr>\n",
       "      <th>331</th>\n",
       "      <td>Mr</td>\n",
       "      <td>0</td>\n",
       "      <td>1</td>\n",
       "      <td>male</td>\n",
       "    </tr>\n",
       "    <tr>\n",
       "      <th>733</th>\n",
       "      <td>Mr</td>\n",
       "      <td>0</td>\n",
       "      <td>2</td>\n",
       "      <td>male</td>\n",
       "    </tr>\n",
       "    <tr>\n",
       "      <th>382</th>\n",
       "      <td>Mr</td>\n",
       "      <td>0</td>\n",
       "      <td>3</td>\n",
       "      <td>male</td>\n",
       "    </tr>\n",
       "    <tr>\n",
       "      <th>704</th>\n",
       "      <td>Mr</td>\n",
       "      <td>1</td>\n",
       "      <td>3</td>\n",
       "      <td>male</td>\n",
       "    </tr>\n",
       "    <tr>\n",
       "      <th>813</th>\n",
       "      <td>Miss</td>\n",
       "      <td>1</td>\n",
       "      <td>3</td>\n",
       "      <td>child</td>\n",
       "    </tr>\n",
       "  </tbody>\n",
       "</table>\n",
       "</div>"
      ],
      "text/plain": [
       "    Title  HasFamily  Pclass    Sex\n",
       "331    Mr          0       1   male\n",
       "733    Mr          0       2   male\n",
       "382    Mr          0       3   male\n",
       "704    Mr          1       3   male\n",
       "813  Miss          1       3  child"
      ]
     },
     "execution_count": 37,
     "metadata": {},
     "output_type": "execute_result"
    }
   ],
   "source": [
    "# Display the head of our training data\n",
    "X_train.head()"
   ]
  },
  {
   "cell_type": "markdown",
   "metadata": {},
   "source": [
    "#### Data representation\n",
    "\n",
    "How should we represent our data as we are feeding it into our models?\n",
    "I present two widely used options:\n",
    "\n",
    "1. Categorical values should be ordinal, e.g. $\\{male,\\ female,\\ child\\} \\rightarrow \\{0, 1 , 2\\}$, or \n",
    "2. Categorical values should be one-hot-encoded, e.g. $\\{male,\\ female,\\ child\\}$ will be seperated into a binary column for each category, where 1 means that it is true. \n",
    "\n",
    "For our first attempt at predicting the surviving passengers we will go with *Option 2.*\n",
    "\n",
    "*Tips:*\n",
    "* *Fit and transform on training data (`fit_transform(...)`)*\n",
    "* *Transform on test data (`transform(...)`)*"
   ]
  },
  {
   "cell_type": "code",
   "execution_count": 38,
   "metadata": {},
   "outputs": [],
   "source": [
    "from sklearn.preprocessing import OneHotEncoder\n",
    "encoder = OneHotEncoder()\n",
    "\n",
    "X_train = encoder.fit_transform(X_train) # Fit encoder and transform training data\n",
    "X_test = encoder.transform(X_test) # Transform test data\n",
    "\n",
    "# Make data to arrays\n",
    "# Tip use .toarray()\n",
    "\n",
    "X_train, X_test = X_train.toarray(), X_test.toarray()"
   ]
  },
  {
   "cell_type": "code",
   "execution_count": 39,
   "metadata": {},
   "outputs": [
    {
     "data": {
      "text/plain": [
       "array(['Title_High title', 'Title_Master', 'Title_Miss', 'Title_Mr',\n",
       "       'Title_Mrs', 'HasFamily_0', 'HasFamily_1', 'Pclass_1', 'Pclass_2',\n",
       "       'Pclass_3', 'Sex_child', 'Sex_female', 'Sex_male'], dtype=object)"
      ]
     },
     "execution_count": 39,
     "metadata": {},
     "output_type": "execute_result"
    }
   ],
   "source": [
    "# Which binary columns have we created for our data?\n",
    "encoder.get_feature_names(X.columns)"
   ]
  },
  {
   "cell_type": "markdown",
   "metadata": {},
   "source": [
    "## 5. Machine Learning and Model Prediciton\n",
    "\n",
    "**Steps:**\n",
    "\n",
    "1. Understand model\n",
    "2. Fit model on training data\n",
    "3. Predict survivors on test data\n",
    "4. Evaluate model on performance on both training and test data"
   ]
  },
  {
   "cell_type": "markdown",
   "metadata": {},
   "source": [
    "### Logistic regression\n",
    "\n",
    "As a difference from linear regression, which is a linear function that predicts values in $\\mathbb{R}$, when we use logistic regression our output will always be in $[0, 1]$, which is great when predicting probabilities.\n",
    "\n",
    "**Short (perhaps too short) introduction to logisitic regression:**\n",
    "\n",
    "First, the logistic model used to predict probabilities:\n",
    "\n",
    "$$\n",
    "\\begin{aligned}\n",
    "f_\\hat{\\boldsymbol{\\theta}} (\\textbf{x}) = \\sigma(\\hat{\\boldsymbol{\\theta}} \\cdot \\textbf{x})\n",
    "\\end{aligned}\n",
    "$$\n",
    "\n",
    "The difference from linear regression, is that we send our trained weights multiplied with our feature-vector through a sigmoid function $\\sigma$, which outputs values in $[0, 1]$. The sigmoid function is defined as \n",
    "\n",
    "$$\n",
    "\\sigma(\\hat{\\boldsymbol{\\theta}} \\cdot \\textbf{x}) = \\frac{1}{1 + e^{-\\hat{\\boldsymbol{\\theta}} \\cdot \\textbf{x}}}\n",
    "$$\n",
    "\n",
    "Then, the cross-entropy loss function:\n",
    "\n",
    "$$\n",
    "\\begin{aligned}\n",
    "L(\\boldsymbol{\\theta}, \\textbf{X}, \\textbf{y}) = \\frac{1}{n} \\sum_i \\left(- y_i \\ln \\sigma_i - (1 - y_i) \\ln (1 - \\sigma_i ) \\right), \\\\\n",
    "\\end{aligned}\n",
    "$$\n",
    "where $\\sigma_i = \\sigma(\\hat{\\boldsymbol{\\theta}} \\cdot \\textbf{x})$\n",
    "\n",
    "Finally, the gradient of the cross-entropy loss for gradient descent:\n",
    "\n",
    "$$\n",
    "\\begin{aligned}\n",
    "\\nabla_{\\boldsymbol{\\theta}} L(\\boldsymbol{\\theta}, \\textbf{X}, \\textbf{y})\n",
    "= - \\frac{1}{n} \\sum_i \\left(\n",
    "    y_i - \\sigma_i\n",
    "\\right) \\textbf{X}_i \\\\\n",
    "\\end{aligned}\n",
    "$$\n",
    "\n",
    "\n",
    "![image.png](https://i.imgur.com/SZy4W95.png)"
   ]
  },
  {
   "cell_type": "markdown",
   "metadata": {},
   "source": [
    "**Task:**\n",
    "1. **Fit a Logistic Regression model on training data**\n",
    "2. **Predict training data and evaluate accuracy**\n",
    "3. **Predict test data**\n",
    "4. **Evaluate model performance**"
   ]
  },
  {
   "cell_type": "code",
   "execution_count": 40,
   "metadata": {},
   "outputs": [
    {
     "name": "stdout",
     "output_type": "stream",
     "text": [
      "Accuracy on training data: 0.8202\n"
     ]
    }
   ],
   "source": [
    "from sklearn.linear_model import LogisticRegression\n",
    "from sklearn.metrics import accuracy_score\n",
    "\n",
    "# Define model\n",
    "lr_model = LogisticRegression()\n",
    "\n",
    "# Fit model\n",
    "lr_model.fit(X_train, y_train)\n",
    "\n",
    "# Predict training data\n",
    "train_preds = lr_model.predict(X_train)\n",
    "\n",
    "# Output accuracy on training data\n",
    "train_acc = accuracy_score(y_train, train_preds)\n",
    "print(f\"Accuracy on training data: {train_acc:.4f}\")"
   ]
  },
  {
   "cell_type": "code",
   "execution_count": 41,
   "metadata": {},
   "outputs": [
    {
     "name": "stdout",
     "output_type": "stream",
     "text": [
      "Accuracy on test data: 0.7821\n"
     ]
    }
   ],
   "source": [
    "# Predict test data\n",
    "test_preds = lr_model.predict(X_test)\n",
    "\n",
    "# Calculate accuracy on test set\n",
    "test_acc = accuracy_score(y_test, test_preds)\n",
    "print(f\"Accuracy on test data: {test_acc:.4f}\")"
   ]
  },
  {
   "cell_type": "markdown",
   "metadata": {},
   "source": [
    "### K-nearest neighbours\n",
    "\n",
    "Another widely used model for prediciton is K-nearest neighbours, which predicts a point based on the average target value for the $k$ nearest neighbours in our feature space. Can also be used for classification tasks where the model chooses the highest represented class amongst the $k$ neighbours.\n",
    "\n",
    "Since we have $n$ features in our training data, our samples (instance) will represent a point in $\\mathbb{R}^{n}$, which is a $n$-dimensional space.\n",
    "\n",
    "The model will calculate the Euclidian distance between our training samples and the point we are trying to predict, and average the target value of the $k$ closest points.\n",
    "\n",
    "$$\n",
    "\\text{Euclidian distance} = \\sqrt{\\sum_{i=1}^{k}(x_i - y_i)^2}\n",
    "$$\n",
    "\n",
    "*Example illustration:*\n",
    "![knnimage](https://www.jeremyjordan.me/content/images/2017/06/Screen-Shot-2017-06-17-at-9.30.39-AM-1.png)"
   ]
  },
  {
   "cell_type": "markdown",
   "metadata": {},
   "source": [
    "**Task:**\n",
    "1. **Fit a K-Nearest Neighbour model on training data**\n",
    "2. **Predict training data and evaluate accuracy**\n",
    "3. **Predict test data**\n",
    "4. **Evaluate model performance**"
   ]
  },
  {
   "cell_type": "code",
   "execution_count": 42,
   "metadata": {},
   "outputs": [
    {
     "name": "stdout",
     "output_type": "stream",
     "text": [
      "Accuracy on training data: 0.7907\n"
     ]
    }
   ],
   "source": [
    "from sklearn.neighbors import KNeighborsClassifier \n",
    "\n",
    "# Define model\n",
    "knn_model = KNeighborsClassifier()\n",
    "\n",
    "# Fit model\n",
    "knn_model.fit(X_train, y_train)\n",
    "\n",
    "# Predict training data\n",
    "train_preds = knn_model.predict(X_train)\n",
    "\n",
    "# Output accuracy on training data\n",
    "train_acc = accuracy_score(y_train, train_preds)\n",
    "print(f\"Accuracy on training data: {train_acc:.4f}\")"
   ]
  },
  {
   "cell_type": "code",
   "execution_count": 43,
   "metadata": {},
   "outputs": [
    {
     "name": "stdout",
     "output_type": "stream",
     "text": [
      "Accuracy on test data: 0.7542\n"
     ]
    }
   ],
   "source": [
    "# Predict test data\n",
    "test_preds = knn_model.predict(X_test)\n",
    "\n",
    "# Calculate accuracy on test set\n",
    "test_acc = accuracy_score(y_test, test_preds)\n",
    "print(f\"Accuracy on test data: {test_acc:.4f}\")"
   ]
  },
  {
   "cell_type": "markdown",
   "metadata": {},
   "source": [
    "### Random Forest\n",
    "\n",
    "Another famous model architecture that used today are random forest.\n",
    "Random forests are an ensemble learning method (uses multiple models internally) for classification and regression that construcs multiple decision trees at training time and outputting the class that is the mode of the classes (classification) or mean prediction (regression) of the individual trees.\n",
    "\n",
    "**Visualization of a decision tree:**\n",
    "\n",
    "![DT](https://www.sqlshack.com/wp-content/uploads/2019/09/sample-of-a-decision-tree.png)\n",
    "\n",
    "And a random forest model consists of a multitude of these trees, in order to make a prediciton.\n",
    "The decision trees splits on a feature on each node of the tree, which is selected by a information gain metric which are based on impurity by calculating the entropy for each possible split.\n",
    "\n"
   ]
  },
  {
   "cell_type": "markdown",
   "metadata": {},
   "source": [
    "**Task:**\n",
    "1. **Fit a Random Forest model on training data**\n",
    "2. **Predict training data and evaluate accuracy**\n",
    "3. **Predict test data**\n",
    "4. **Evaluate model performance**"
   ]
  },
  {
   "cell_type": "code",
   "execution_count": 44,
   "metadata": {},
   "outputs": [
    {
     "name": "stdout",
     "output_type": "stream",
     "text": [
      "Accuracy on training data: 0.8216\n"
     ]
    }
   ],
   "source": [
    "from sklearn.ensemble import RandomForestClassifier \n",
    "\n",
    "# Define model\n",
    "rf_model = RandomForestClassifier()\n",
    "\n",
    "# Fit model\n",
    "rf_model.fit(X_train, y_train)\n",
    "\n",
    "# Predict training data\n",
    "train_preds = rf_model.predict(X_train)\n",
    "\n",
    "# Output accuracy on training data\n",
    "train_acc = accuracy_score(y_train, train_preds)\n",
    "print(f\"Accuracy on training data: {train_acc:.4f}\")"
   ]
  },
  {
   "cell_type": "code",
   "execution_count": 45,
   "metadata": {},
   "outputs": [
    {
     "name": "stdout",
     "output_type": "stream",
     "text": [
      "Accuracy on test data: 0.7709\n"
     ]
    }
   ],
   "source": [
    "# Predict test data\n",
    "test_preds = rf_model.predict(X_test)\n",
    "\n",
    "# Calculate accuracy on test set\n",
    "test_acc = accuracy_score(y_test, test_preds)\n",
    "print(f\"Accuracy on test data: {test_acc:.4f}\")"
   ]
  },
  {
   "cell_type": "markdown",
   "metadata": {},
   "source": [
    "## Further work\n",
    "\n",
    "**Ideas to do at home:**\n",
    "\n",
    "* Find more interesting features, how do they effect the accuracy of our models\n",
    "* Tune hyperparameters of the models, e.g. number of trees in Random Forest model or threshold for logistic regression. Remember to create a validation set for this, as we do not evaluate our model on test set for tuning our model.\n",
    "* Predict the `kaggle_test.csv` file and upload to Kaggle to see your models performance\n",
    "* Experiment with other models than introduced during course\n",
    "* Try similar approach on different dataset, e.g. *Boston House Pricing* dataset, see Kaggle.\n",
    "\n",
    "\n"
   ]
  }
 ],
 "metadata": {
  "kernelspec": {
   "display_name": "Python 3 (ipykernel)",
   "language": "python",
   "name": "python3"
  },
  "language_info": {
   "codemirror_mode": {
    "name": "ipython",
    "version": 3
   },
   "file_extension": ".py",
   "mimetype": "text/x-python",
   "name": "python",
   "nbconvert_exporter": "python",
   "pygments_lexer": "ipython3",
   "version": "3.10.0"
  }
 },
 "nbformat": 4,
 "nbformat_minor": 2
}
